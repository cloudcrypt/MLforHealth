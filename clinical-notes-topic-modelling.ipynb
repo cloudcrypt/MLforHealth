{
 "cells": [
  {
   "cell_type": "markdown",
   "metadata": {},
   "source": [
    "## Part 3: Topic Modelling on Clinical Notes\n",
    "### Part a:"
   ]
  },
  {
   "cell_type": "code",
   "execution_count": 137,
   "metadata": {},
   "outputs": [],
   "source": [
    "import numpy as np\n",
    "import pandas as pd\n",
    "import scipy as sp\n",
    "import matplotlib.pyplot as plt\n",
    "from gensim.models import LdaMulticore\n",
    "from gensim.corpora.dictionary import Dictionary\n",
    "from gensim.models.coherencemodel import CoherenceModel\n",
    "from gensim.test.utils import datapath\n",
    "from nltk.tokenize import word_tokenize\n",
    "from nltk.corpus import stopwords\n",
    "import string, re\n",
    "import multiprocessing as mp"
   ]
  },
  {
   "cell_type": "code",
   "execution_count": 22,
   "metadata": {},
   "outputs": [],
   "source": [
    "from IPython.core.interactiveshell import InteractiveShell\n",
    "InteractiveShell.ast_node_interactivity = \"all\""
   ]
  },
  {
   "cell_type": "code",
   "execution_count": 48,
   "metadata": {},
   "outputs": [],
   "source": [
    "dataset = pd.read_csv(\"~/csc2548_ml4h/adult_notes.gz\", compression='gzip')\n",
    "dataset = dataset[~pd.isnull(dataset.chartext)]\n",
    "\n",
    "chartext = dataset.chartext"
   ]
  },
  {
   "cell_type": "code",
   "execution_count": 49,
   "metadata": {},
   "outputs": [],
   "source": [
    "stopwordList = stopwords.words(\"english\")\n",
    "\n",
    "def tokenize(s):\n",
    "    return [j for j in [re.sub(\"[\\W_]+\", '', i) for i in word_tokenize(s.lower())] \n",
    "            if j not in stopwordList and j != '']\n",
    "\n",
    "pool = mp.Pool(mp.cpu_count())\n",
    "corpus = pool.map(tokenize, chartext)\n",
    "pool.close()\n",
    "pool.join()"
   ]
  },
  {
   "cell_type": "code",
   "execution_count": 50,
   "metadata": {},
   "outputs": [],
   "source": [
    "dictionary = Dictionary(corpus)"
   ]
  },
  {
   "cell_type": "code",
   "execution_count": 51,
   "metadata": {},
   "outputs": [],
   "source": [
    "pool = mp.Pool(mp.cpu_count())\n",
    "bow_corpus = pool.map(dictionary.doc2bow, corpus)\n",
    "pool.close()\n",
    "pool.join()"
   ]
  },
  {
   "cell_type": "code",
   "execution_count": null,
   "metadata": {},
   "outputs": [],
   "source": [
    "def generate_lda(topics: int) -> LdaMulticore:\n",
    "    lda = LdaMulticore(bow_corpus, num_topics=topics, id2word=dictionary,\n",
    "                       workers=mp.cpu_count(), passes=1, per_word_topics=True)\n",
    "\n",
    "    cm = CoherenceModel(model=lda, corpus=bow_corpus, dictionary=dictionary, coherence=\"u_mass\")\n",
    "    score = cm.get_coherence()\n",
    "    \n",
    "    print(f\"LDA: # of topics: {topics}, Coherence score: {score}\\n\")\n",
    "    \n",
    "    temp_file = datapath(\"lda_\"+str(topics))\n",
    "    lda.save(temp_file)\n",
    "    \n",
    "    return lda, score\n",
    "\n",
    "lda_20, score_20 = generate_lda(20)\n",
    "lda_50, score_50 = generate_lda(50)\n",
    "lda_100, score_100 = generate_lda(100)"
   ]
  },
  {
   "cell_type": "markdown",
   "metadata": {},
   "source": [
    "### Part b:"
   ]
  },
  {
   "cell_type": "code",
   "execution_count": 133,
   "metadata": {},
   "outputs": [
    {
     "data": {
      "text/plain": [
       "[]"
      ]
     },
     "execution_count": 133,
     "metadata": {},
     "output_type": "execute_result"
    },
    {
     "name": "stdout",
     "output_type": "stream",
     "text": [
      "\n",
      "Word \"respiratory\" found in topics [13]\n",
      "Topic 13:\n",
      "[('ml', 0.008362081), ('pt', 0.007417203), ('pm', 0.0066727293), ('name', 0.0059811734), ('plan', 0.0051126853), ('left', 0.0049168533), ('chest', 0.0046872776), ('mgdl', 0.004559539), ('right', 0.0043463064), ('last', 0.0042483276)]\n",
      "\n",
      "Word \"vomiting\" found in topics [13]\n",
      "Topic 13:\n",
      "[('ml', 0.008362081), ('pt', 0.007417203), ('pm', 0.0066727293), ('name', 0.0059811734), ('plan', 0.0051126853), ('left', 0.0049168533), ('chest', 0.0046872776), ('mgdl', 0.004559539), ('right', 0.0043463064), ('last', 0.0042483276)]\n",
      "\n",
      "Word \"urine\" found in topics [13]\n",
      "Topic 13:\n",
      "[('ml', 0.008362081), ('pt', 0.007417203), ('pm', 0.0066727293), ('name', 0.0059811734), ('plan', 0.0051126853), ('left', 0.0049168533), ('chest', 0.0046872776), ('mgdl', 0.004559539), ('right', 0.0043463064), ('last', 0.0042483276)]\n",
      "\n",
      "Word \"pulse\" found in topics [12]\n",
      "Topic 12:\n",
      "[('pt', 0.009587039), ('ml', 0.0056111817), ('left', 0.0052784607), ('plan', 0.0046334383), ('last', 0.0045303362), ('pm', 0.0044294144), ('2', 0.0043634893), ('name', 0.004184224), ('right', 0.0040000863), ('patient', 0.0038878955)]\n"
     ]
    }
   ],
   "source": [
    "lda.get_term_topics(dictionary.token2id[\"pulse\"])\n",
    "\n",
    "def examine_word(word: str, model: LdaMulticore):\n",
    "    topics = model.get_document_topics(dictionary.doc2bow([word]), per_word_topics=True)[1][0][1]\n",
    "    print(f\"\\nWord \\\"{word}\\\" found in topics {topics}\")\n",
    "    for topic in topics:\n",
    "        print(f\"Topic {topic}:\")\n",
    "        print(model.show_topic(topic))\n",
    "    \n",
    "examine_word(\"respiratory\", lda)\n",
    "examine_word(\"vomiting\", lda)\n",
    "examine_word(\"urine\", lda)\n",
    "examine_word(\"pulse\", lda)"
   ]
  }
 ],
 "metadata": {
  "kernelspec": {
   "display_name": "Python 3",
   "language": "python",
   "name": "python3"
  },
  "language_info": {
   "codemirror_mode": {
    "name": "ipython",
    "version": 3
   },
   "file_extension": ".py",
   "mimetype": "text/x-python",
   "name": "python",
   "nbconvert_exporter": "python",
   "pygments_lexer": "ipython3",
   "version": "3.6.7"
  }
 },
 "nbformat": 4,
 "nbformat_minor": 2
}
