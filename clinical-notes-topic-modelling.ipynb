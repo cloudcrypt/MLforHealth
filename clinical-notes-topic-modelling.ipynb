{
 "cells": [
  {
   "cell_type": "markdown",
   "metadata": {},
   "source": [
    "## Part 4: Topic Modelling on Clinical Notes\n",
    "### Part a:"
   ]
  },
  {
   "cell_type": "code",
   "execution_count": 1,
   "metadata": {},
   "outputs": [],
   "source": [
    "import numpy as np\n",
    "import pandas as pd\n",
    "import scipy as sp\n",
    "import matplotlib.pyplot as plt\n",
    "from gensim.models import LdaMulticore, LdaModel\n",
    "from gensim.corpora.dictionary import Dictionary\n",
    "from gensim.models.coherencemodel import CoherenceModel\n",
    "from gensim.test.utils import datapath\n",
    "from nltk.tokenize import word_tokenize\n",
    "from nltk.corpus import stopwords\n",
    "import string, re\n",
    "import multiprocessing as mp"
   ]
  },
  {
   "cell_type": "code",
   "execution_count": 2,
   "metadata": {},
   "outputs": [],
   "source": [
    "from IPython.core.interactiveshell import InteractiveShell\n",
    "InteractiveShell.ast_node_interactivity = \"all\""
   ]
  },
  {
   "cell_type": "code",
   "execution_count": 3,
   "metadata": {},
   "outputs": [],
   "source": [
    "dataset = pd.read_csv(\"~/csc2548_ml4h/adult_notes.gz\", compression='gzip')\n",
    "dataset = dataset[~pd.isnull(dataset.chartext)]\n",
    "\n",
    "chartext = dataset.chartext"
   ]
  },
  {
   "cell_type": "code",
   "execution_count": 4,
   "metadata": {},
   "outputs": [],
   "source": [
    "stopwordList = stopwords.words(\"english\")\n",
    "\n",
    "medicalStopwordList = [\"patient\", \"patients\", \"disease\", \"diseases\", \"disorder\", \"symptom\", \"symptoms\", \"drug\", \"drugs\", \"problems\", \"problem\", \"prob\", \"probs\", \"med\", \"meds\", \"pill\", \"pills\", \"medicine\", \"medicines\", \"medication\", \"medications\", \"treatment\", \"treatments\", \"caps\", \"capsules\", \"capsule\", \"tablet\", \"tablets\", \"tabs\", \"doctor\", \"dr\", \"dr.\", \"doc\", \"physician\", \"physicians\", \"test\", \"tests\", \"testing\", \"specialist\", \"specialists\", \"side-effect\", \"side-effects\", \"pharmaceutical\", \"pharmaceuticals\", \"pharma\", \"diagnosis\", \"diagnose\", \"diagnosed\", \"exam\", \"challenge\", \"device\", \"condition\", \"conditions\", \"suffer\", \"suffering\", \"suffered\", \"feel\", \"feeling\", \"prescription\", \"prescribe\", \"prescribed\", \"over-the-counter\", \"otc\"]\n",
    "\n",
    "units = [\"ml\", \"mgdl\", \"pt\", \"pm\", \"meql\"]\n",
    "\n",
    "stopwordList = stopwordList + medicalStopwordList + units\n",
    "\n",
    "def tokenize(s):\n",
    "    return [j for j in [re.sub(\"^\\d$\", '', re.sub(\"[\\W_]+|^\\d$\", '', i)) for i in word_tokenize(s.lower())] \n",
    "            if j not in stopwordList and j != '']\n",
    "\n",
    "pool = mp.Pool(mp.cpu_count())\n",
    "corpus = pool.map(tokenize, chartext)\n",
    "pool.close()\n",
    "pool.join()"
   ]
  },
  {
   "cell_type": "code",
   "execution_count": 7,
   "metadata": {},
   "outputs": [],
   "source": [
    "#corpus[0]"
   ]
  },
  {
   "cell_type": "code",
   "execution_count": null,
   "metadata": {},
   "outputs": [],
   "source": [
    "#word_tokenize(chartext[0].lower())\n",
    "#re.sub(\"[\\W_]+|^\\d$\", '', \"2**\")"
   ]
  },
  {
   "cell_type": "code",
   "execution_count": 8,
   "metadata": {},
   "outputs": [],
   "source": [
    "dictionary = Dictionary(corpus)"
   ]
  },
  {
   "cell_type": "code",
   "execution_count": null,
   "metadata": {},
   "outputs": [],
   "source": [
    "#dictionary.filter_extremes(no_below=0, no_above=0.75, keep_n=None)"
   ]
  },
  {
   "cell_type": "code",
   "execution_count": 9,
   "metadata": {},
   "outputs": [],
   "source": [
    "pool = mp.Pool(mp.cpu_count())\n",
    "bow_corpus = pool.map(dictionary.doc2bow, corpus)\n",
    "pool.close()\n",
    "pool.join()\n",
    "#del chartext\n",
    "#del corpus"
   ]
  },
  {
   "cell_type": "code",
   "execution_count": 11,
   "metadata": {},
   "outputs": [
    {
     "name": "stdout",
     "output_type": "stream",
     "text": [
      "LDA: # of topics: 20, Coherence score: -0.6053154561330254\n",
      "\n",
      "LDA: # of topics: 50, Coherence score: -0.8122645424338729\n",
      "\n",
      "LDA: # of topics: 100, Coherence score: -1.2643940704601395\n",
      "\n"
     ]
    }
   ],
   "source": [
    "def generate_lda(topics: int) -> LdaMulticore:\n",
    "    lda = LdaModel(bow_corpus, num_topics=topics, id2word=dictionary)\n",
    "    #lda = LdaMulticore(bow_corpus, num_topics=topics, id2word=dictionary,\n",
    "    #                   workers=mp.cpu_count(), passes=5, per_word_topics=False, chunksize=1000)\n",
    "\n",
    "    cm = CoherenceModel(model=lda, corpus=bow_corpus, dictionary=dictionary, coherence=\"u_mass\")\n",
    "    score = cm.get_coherence()\n",
    "    \n",
    "    print(f\"LDA: # of topics: {topics}, Coherence score: {score}\\n\")\n",
    "    \n",
    "    lda.save(\"lda_\"+str(topics))\n",
    "    \n",
    "    return lda, score\n",
    "\n",
    "lda_20, score_20 = generate_lda(20)\n",
    "lda_50, score_50 = generate_lda(50)\n",
    "lda_100, score_100 = generate_lda(100)"
   ]
  },
  {
   "cell_type": "markdown",
   "metadata": {},
   "source": [
    " How many topics gives the optimal coherence score? "
   ]
  },
  {
   "cell_type": "markdown",
   "metadata": {},
   "source": [
    "### Part b:"
   ]
  },
  {
   "cell_type": "code",
   "execution_count": 12,
   "metadata": {},
   "outputs": [
    {
     "name": "stdout",
     "output_type": "stream",
     "text": [
      "\n",
      "Word \"respiratory\" found in topics [12]\n",
      "Topic 12:\n",
      "[('trach', 0.03310057), ('tracheal', 0.026437256), ('stent', 0.023169182), ('tracheobronchomalacia', 0.019722452), ('tbm', 0.015810193), ('ip', 0.012208484), ('bronch', 0.012193589), ('tracheomalacia', 0.011539162), ('tracheostomy', 0.010841105), ('bronchomalacia', 0.008184757), ('bronchoscopy', 0.0075094975), ('respiratory', 0.0069821076), ('copd', 0.0063179596), ('rigid', 0.0056467513), ('granulation', 0.0047931783), ('assessment', 0.004592882), ('tracheobronchial', 0.0042763017), ('anxiety', 0.0033587394), ('malacia', 0.0033555909), ('airway', 0.0032051068)]\n"
     ]
    }
   ],
   "source": [
    "lda = lda_20\n",
    "\n",
    "#lda.get_term_topics(dictionary.token2id[\"pulse\"])\n",
    "\n",
    "def examine_word(word: str, model: LdaMulticore):\n",
    "    topics = model.get_document_topics(dictionary.doc2bow([word]), per_word_topics=True)[1][0][1]\n",
    "    print(f\"\\nWord \\\"{word}\\\" found in topics {topics}\")\n",
    "    for topic in topics:\n",
    "        print(f\"Topic {topic}:\")\n",
    "        print(model.show_topic(topic, topn=20))\n",
    "    \n",
    "examine_word(\"respiratory\", lda)"
   ]
  },
  {
   "cell_type": "code",
   "execution_count": 13,
   "metadata": {},
   "outputs": [
    {
     "name": "stdout",
     "output_type": "stream",
     "text": [
      "\n",
      "Word \"vomiting\" found in topics [0]\n",
      "Topic 0:\n",
      "[('pain', 0.015115606), ('name', 0.008588985), ('w', 0.0059262337), ('iv', 0.0058275103), ('co', 0.0055646095), ('hr', 0.0054285373), ('given', 0.0052032745), ('plan', 0.005185598), ('po', 0.004885575), ('monitor', 0.004839208), ('bp', 0.0048359516), ('last', 0.0046347715), ('hct', 0.0045250305), ('clear', 0.0044288193), ('neuro', 0.004040973), ('stable', 0.0038911263), ('oriented', 0.0035876993), ('urine', 0.0034098094), ('ni', 0.003396138), ('per', 0.003368731)]\n"
     ]
    }
   ],
   "source": [
    "examine_word(\"vomiting\", lda)"
   ]
  },
  {
   "cell_type": "code",
   "execution_count": 14,
   "metadata": {},
   "outputs": [
    {
     "name": "stdout",
     "output_type": "stream",
     "text": [
      "\n",
      "Word \"urine\" found in topics [15]\n",
      "Topic 15:\n",
      "[('name', 0.007635522), ('vent', 0.0061960984), ('secretions', 0.005555829), ('resp', 0.005498929), ('intubated', 0.005368761), ('plan', 0.0052429694), ('care', 0.005150099), ('abg', 0.004983796), ('noted', 0.004880459), ('last', 0.004415221), ('remains', 0.0041969502), ('thick', 0.004180449), ('clear', 0.0041589546), ('given', 0.004072302), ('neuro', 0.0039990884), ('hr', 0.0038723384), ('propofol', 0.003761605), ('sputum', 0.003690738), ('bp', 0.003616769), ('placed', 0.0035625577)]\n"
     ]
    }
   ],
   "source": [
    "examine_word(\"urine\", lda)"
   ]
  },
  {
   "cell_type": "code",
   "execution_count": 15,
   "metadata": {},
   "outputs": [
    {
     "name": "stdout",
     "output_type": "stream",
     "text": [
      "\n",
      "Word \"pulse\" found in topics [3]\n",
      "Topic 3:\n",
      "[('plan', 0.006358578), ('assessment', 0.0060812323), ('icu', 0.005287636), ('history', 0.0052462295), ('continue', 0.004929864), ('given', 0.0047584246), ('assessed', 0.0046859207), ('pain', 0.004636236), ('last', 0.0046199583), ('response', 0.004450188), ('name', 0.0042789257), ('po', 0.0041863313), ('action', 0.004176705), ('total', 0.0038810014), ('labs', 0.003755706), ('c', 0.0036512334), ('respiratory', 0.0035958285), ('24', 0.0035546946), ('code', 0.0035232862), ('blood', 0.0034580214)]\n"
     ]
    }
   ],
   "source": [
    "examine_word(\"pulse\", lda)"
   ]
  },
  {
   "cell_type": "code",
   "execution_count": null,
   "metadata": {},
   "outputs": [],
   "source": [
    "#lda.print_topics(num_topics=50, num_words=20)"
   ]
  },
  {
   "cell_type": "code",
   "execution_count": null,
   "metadata": {},
   "outputs": [],
   "source": [
    "#word = \"respiratory\"\n",
    "#dictionary.doc2bow([word])\n",
    "#lda_50.get_document_topics(dictionary.doc2bow([word]), per_word_topics=True)"
   ]
  }
 ],
 "metadata": {
  "kernelspec": {
   "display_name": "Python 3",
   "language": "python",
   "name": "python3"
  },
  "language_info": {
   "codemirror_mode": {
    "name": "ipython",
    "version": 3
   },
   "file_extension": ".py",
   "mimetype": "text/x-python",
   "name": "python",
   "nbconvert_exporter": "python",
   "pygments_lexer": "ipython3",
   "version": "3.6.7"
  }
 },
 "nbformat": 4,
 "nbformat_minor": 2
}
