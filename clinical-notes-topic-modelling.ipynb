{
 "cells": [
  {
   "cell_type": "markdown",
   "metadata": {},
   "source": [
    "## Part 4: Topic Modelling on Clinical Notes\n",
    "### Part a:"
   ]
  },
  {
   "cell_type": "code",
   "execution_count": 1,
   "metadata": {},
   "outputs": [],
   "source": [
    "import numpy as np\n",
    "import pandas as pd\n",
    "import scipy as sp\n",
    "import matplotlib.pyplot as plt\n",
    "from gensim.models import LdaMulticore, LdaModel\n",
    "from gensim.corpora.dictionary import Dictionary\n",
    "from gensim.models.coherencemodel import CoherenceModel\n",
    "from gensim.test.utils import datapath\n",
    "from nltk.tokenize import word_tokenize\n",
    "from nltk.corpus import stopwords\n",
    "import string, re\n",
    "import multiprocessing as mp"
   ]
  },
  {
   "cell_type": "code",
   "execution_count": 2,
   "metadata": {},
   "outputs": [],
   "source": [
    "from IPython.core.interactiveshell import InteractiveShell\n",
    "InteractiveShell.ast_node_interactivity = \"all\""
   ]
  },
  {
   "cell_type": "code",
   "execution_count": 3,
   "metadata": {},
   "outputs": [],
   "source": [
    "dataset = pd.read_csv(\"~/csc2548_ml4h/adult_notes.gz\", compression='gzip')\n",
    "dataset = dataset[~pd.isnull(dataset.chartext)]\n",
    "\n",
    "chartext = dataset.chartext"
   ]
  },
  {
   "cell_type": "code",
   "execution_count": 15,
   "metadata": {},
   "outputs": [],
   "source": [
    "stopwordList = stopwords.words(\"english\")\n",
    "\n",
    "medicalStopwordList = [\"patient\", \"patients\", \"disease\", \"diseases\", \"disorder\", \"symptom\", \"symptoms\", \"drug\", \"drugs\", \"problems\", \"problem\", \"prob\", \"probs\", \"med\", \"meds\", \"pill\", \"pills\", \"medicine\", \"medicines\", \"medication\", \"medications\", \"treatment\", \"treatments\", \"caps\", \"capsules\", \"capsule\", \"tablet\", \"tablets\", \"tabs\", \"doctor\", \"dr\", \"dr.\", \"doc\", \"physician\", \"physicians\", \"test\", \"tests\", \"testing\", \"specialist\", \"specialists\", \"side-effect\", \"side-effects\", \"pharmaceutical\", \"pharmaceuticals\", \"pharma\", \"diagnosis\", \"diagnose\", \"diagnosed\", \"exam\", \"challenge\", \"device\", \"condition\", \"conditions\", \"suffer\", \"suffering\", \"suffered\", \"feel\", \"feeling\", \"prescription\", \"prescribe\", \"prescribed\", \"over-the-counter\", \"otc\"]\n",
    "\n",
    "units = [\"ml\", \"mgdl\", \"pt\", \"pm\", \"meql\"]\n",
    "\n",
    "stopwordList = stopwordList + medicalStopwordList + units\n",
    "\n",
    "def tokenize(s):\n",
    "    return [j for j in [re.sub(\"^\\d$\", '', re.sub(\"[\\W_]+|^\\d$\", '', i)) for i in word_tokenize(s.lower())] \n",
    "            if j not in stopwordList and j != '']\n",
    "\n",
    "pool = mp.Pool(mp.cpu_count())\n",
    "corpus = pool.map(tokenize, chartext)\n",
    "pool.close()\n",
    "pool.join()"
   ]
  },
  {
   "cell_type": "code",
   "execution_count": 5,
   "metadata": {},
   "outputs": [],
   "source": [
    "#len(corpus[0])"
   ]
  },
  {
   "cell_type": "code",
   "execution_count": 6,
   "metadata": {},
   "outputs": [],
   "source": [
    "#word_tokenize(chartext[0].lower())\n",
    "#re.sub(\"[\\W_]+|^\\d$\", '', \"2**\")"
   ]
  },
  {
   "cell_type": "code",
   "execution_count": 7,
   "metadata": {},
   "outputs": [],
   "source": [
    "dictionary = Dictionary(corpus)"
   ]
  },
  {
   "cell_type": "code",
   "execution_count": 8,
   "metadata": {},
   "outputs": [],
   "source": [
    "#dictionary.filter_extremes(no_below=0, no_above=0.75, keep_n=None)"
   ]
  },
  {
   "cell_type": "code",
   "execution_count": 9,
   "metadata": {},
   "outputs": [],
   "source": [
    "pool = mp.Pool(mp.cpu_count())\n",
    "bow_corpus = pool.map(dictionary.doc2bow, corpus)\n",
    "pool.close()\n",
    "pool.join()\n",
    "#del chartext\n",
    "#del corpus"
   ]
  },
  {
   "cell_type": "code",
   "execution_count": 10,
   "metadata": {
    "scrolled": true
   },
   "outputs": [
    {
     "name": "stdout",
     "output_type": "stream",
     "text": [
      "LDA: # of topics: 20, Coherence score: -0.5398971787156316\n",
      "\n",
      "LDA: # of topics: 50, Coherence score: -0.7838344510175967\n",
      "\n",
      "LDA: # of topics: 100, Coherence score: -0.7365448682718234\n",
      "\n"
     ]
    }
   ],
   "source": [
    "def generate_lda(topics: int) -> LdaMulticore:\n",
    "    lda = LdaModel(bow_corpus, num_topics=topics, id2word=dictionary)\n",
    "    #lda = LdaMulticore(bow_corpus, num_topics=topics, id2word=dictionary,\n",
    "    #                   workers=mp.cpu_count(), passes=5, per_word_topics=False, chunksize=1000)\n",
    "\n",
    "    cm = CoherenceModel(model=lda, corpus=bow_corpus, dictionary=dictionary, coherence=\"u_mass\")\n",
    "    score = cm.get_coherence()\n",
    "    \n",
    "    print(f\"LDA: # of topics: {topics}, Coherence score: {score}\\n\")\n",
    "    \n",
    "    lda.save(\"lda_\"+str(topics))\n",
    "    \n",
    "    return lda, score\n",
    "\n",
    "lda_20, score_20 = generate_lda(20)\n",
    "lda_50, score_50 = generate_lda(50)\n",
    "lda_100, score_100 = generate_lda(100)"
   ]
  },
  {
   "cell_type": "markdown",
   "metadata": {},
   "source": [
    "LDA: # of topics: 20, Coherence score: -0.320345803714344\n",
    "\n",
    "LDA: # of topics: 50, Coherence score: -0.3141471647049764\n",
    "\n",
    "LDA: # of topics: 100, Coherence score: -0.3286962751461799"
   ]
  },
  {
   "cell_type": "markdown",
   "metadata": {},
   "source": [
    " How many topics gives the optimal coherence score? "
   ]
  },
  {
   "cell_type": "markdown",
   "metadata": {},
   "source": [
    "### Part b:"
   ]
  },
  {
   "cell_type": "code",
   "execution_count": null,
   "metadata": {},
   "outputs": [],
   "source": [
    "lda = lda_20\n",
    "\n",
    "#lda.get_term_topics(dictionary.token2id[\"pulse\"])\n",
    "\n",
    "def examine_word(word: str, model: LdaMulticore):\n",
    "    topics = model.get_document_topics(dictionary.doc2bow([word]), per_word_topics=True)[1][0][1]\n",
    "    print(f\"\\nWord \\\"{word}\\\" found in topics {topics}\")\n",
    "    for topic in topics:\n",
    "        print(f\"Topic {topic}:\")\n",
    "        print(model.show_topic(topic, topn=20))\n",
    "    \n",
    "examine_word(\"respiratory\", lda)"
   ]
  },
  {
   "cell_type": "code",
   "execution_count": null,
   "metadata": {},
   "outputs": [],
   "source": [
    "examine_word(\"vomiting\", lda)"
   ]
  },
  {
   "cell_type": "code",
   "execution_count": null,
   "metadata": {},
   "outputs": [],
   "source": [
    "examine_word(\"urine\", lda)"
   ]
  },
  {
   "cell_type": "code",
   "execution_count": null,
   "metadata": {},
   "outputs": [],
   "source": [
    "examine_word(\"pulse\", lda)"
   ]
  },
  {
   "cell_type": "code",
   "execution_count": null,
   "metadata": {},
   "outputs": [],
   "source": [
    "#lda.print_topics(num_topics=50, num_words=20)"
   ]
  },
  {
   "cell_type": "code",
   "execution_count": null,
   "metadata": {},
   "outputs": [],
   "source": [
    "#word = \"respiratory\"\n",
    "#dictionary.doc2bow([word])\n",
    "#lda_50.get_document_topics(dictionary.doc2bow([word]), per_word_topics=True)"
   ]
  }
 ],
 "metadata": {
  "kernelspec": {
   "display_name": "Python 3",
   "language": "python",
   "name": "python3"
  },
  "language_info": {
   "codemirror_mode": {
    "name": "ipython",
    "version": 3
   },
   "file_extension": ".py",
   "mimetype": "text/x-python",
   "name": "python",
   "nbconvert_exporter": "python",
   "pygments_lexer": "ipython3",
   "version": "3.6.7"
  }
 },
 "nbformat": 4,
 "nbformat_minor": 2
}
