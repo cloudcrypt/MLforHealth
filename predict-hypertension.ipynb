{
 "cells": [
  {
   "cell_type": "markdown",
   "metadata": {},
   "source": [
    "### Part 3: Predicting hypertension\n",
    "#### Part a:"
   ]
  },
  {
   "cell_type": "code",
   "execution_count": 1,
   "metadata": {},
   "outputs": [],
   "source": [
    "import numpy as np\n",
    "import pandas as pd\n",
    "import scipy as sp\n",
    "import matplotlib.pyplot as plt\n",
    "from sklearn.linear_model import LogisticRegression\n",
    "from sklearn.preprocessing import MinMaxScaler\n",
    "from sklearn import metrics\n",
    "from sklearn.metrics import roc_curve\n",
    "from nltk.tokenize import word_tokenize"
   ]
  },
  {
   "cell_type": "code",
   "execution_count": 35,
   "metadata": {},
   "outputs": [],
   "source": [
    "from IPython.core.interactiveshell import InteractiveShell\n",
    "InteractiveShell.ast_node_interactivity = \"all\""
   ]
  },
  {
   "cell_type": "code",
   "execution_count": 97,
   "metadata": {},
   "outputs": [],
   "source": [
    "class Data:\n",
    "    def __init__(self, data, target):\n",
    "        self.data = data\n",
    "        self.target = target\n",
    "    \n",
    "class Dataset:\n",
    "    def __init__(self, train: Data, test: Data):\n",
    "        self.train = train\n",
    "        self.test = test"
   ]
  },
  {
   "cell_type": "code",
   "execution_count": 133,
   "metadata": {},
   "outputs": [],
   "source": [
    "#pt = pd.DataFrame([[1,0,1],[2,0,1],[3,1,0]], columns=[\"id\",\"label\",\"train\"])\n",
    "#cts = pd.DataFrame([[1,1,5],[1,1,10],[1,2,6],[2,1,4],[3,1,20],[3,1,30],[3,1,40]], columns=[\"id\",\"type\",\"hr\"])\n",
    "\n",
    "def prepare_data(patients: pd.DataFrame, charts: pd.DataFrame, itemid: int) -> Dataset:\n",
    "    df = charts\n",
    "    df = df[df.itemid == itemid].drop(\"itemid\", axis=1) \\\n",
    "                                .groupby(\"hadm_id\") \\\n",
    "                                .filter(lambda x: len(x) >= 2) \\\n",
    "                                .groupby(\"hadm_id\") \\\n",
    "                                .agg([np.min, np.max, np.mean]) \\\n",
    "                                .reset_index()\n",
    "    #df.columns = [''.join(col) if col[1] == '' else '_'.join(col) for col in df.columns.values]\n",
    "    df.columns = [''.join(col) if col[1] == '' else col[1] for col in df.columns.values]\n",
    "    df = pd.merge(df, patients, on=\"hadm_id\")\n",
    "\n",
    "    #min_max_scaler = MinMaxScaler()\n",
    "    #df.iloc[:,1:4] = min_max_scaler.fit_transform(df.iloc[:,1:4].values.astype(float))\n",
    "\n",
    "    trainset = df[df.train == 1].copy()\n",
    "    trainset.reset_index(drop=True, inplace=True)\n",
    "    trainset.drop([\"train\", \"hadm_id\"], axis=1, inplace=True)\n",
    "    target = trainset.pop(\"hypertension\")\n",
    "    train = Data(trainset, target)\n",
    "\n",
    "    testset = df[df.train == 0].copy()\n",
    "    testset.reset_index(drop=True, inplace=True)\n",
    "    testset.drop([\"train\", \"hadm_id\"], axis=1, inplace=True)\n",
    "    target = testset.pop(\"hypertension\")\n",
    "    test = Data(testset, target)\n",
    "\n",
    "    return Dataset(train, test)"
   ]
  },
  {
   "cell_type": "code",
   "execution_count": 128,
   "metadata": {},
   "outputs": [],
   "source": [
    "patients_dataset = pd.read_csv(\"~/csc2548_ml4h/hypertension_patients.gz\", compression='gzip')\n",
    "charts_dataset = pd.read_csv(\"~/csc2548_ml4h/hypertension_charts.gz\", compression='gzip')\n",
    "\n",
    "patients_dataset.drop(\"subject_id\", axis=1, inplace=True)\n",
    "charts_dataset.drop(\"subject_id\", axis=1, inplace=True)"
   ]
  },
  {
   "cell_type": "code",
   "execution_count": 134,
   "metadata": {},
   "outputs": [],
   "source": [
    "#patients_dataset.head()\n",
    "#charts_dataset.head()\n",
    "#patients_dataset[patients_dataset.hadm_id.duplicated()].head()\n",
    "# patients_dataset[patients_dataset.subject_id == 6953]\n",
    "hr_data = prepare_data(patients_dataset, charts_dataset, 220045)\n",
    "resp_data = prepare_data(patients_dataset, charts_dataset, 220210)\n",
    "o2_data = prepare_data(patients_dataset, charts_dataset, 220277)\n",
    "bp_data = prepare_data(patients_dataset, charts_dataset, 220181)"
   ]
  },
  {
   "cell_type": "code",
   "execution_count": 135,
   "metadata": {},
   "outputs": [
    {
     "data": {
      "text/html": [
       "<div>\n",
       "<style scoped>\n",
       "    .dataframe tbody tr th:only-of-type {\n",
       "        vertical-align: middle;\n",
       "    }\n",
       "\n",
       "    .dataframe tbody tr th {\n",
       "        vertical-align: top;\n",
       "    }\n",
       "\n",
       "    .dataframe thead th {\n",
       "        text-align: right;\n",
       "    }\n",
       "</style>\n",
       "<table border=\"1\" class=\"dataframe\">\n",
       "  <thead>\n",
       "    <tr style=\"text-align: right;\">\n",
       "      <th></th>\n",
       "      <th>amin</th>\n",
       "      <th>amax</th>\n",
       "      <th>mean</th>\n",
       "    </tr>\n",
       "  </thead>\n",
       "  <tbody>\n",
       "    <tr>\n",
       "      <th>0</th>\n",
       "      <td>75.0</td>\n",
       "      <td>131.0</td>\n",
       "      <td>111.313953</td>\n",
       "    </tr>\n",
       "    <tr>\n",
       "      <th>1</th>\n",
       "      <td>69.0</td>\n",
       "      <td>104.0</td>\n",
       "      <td>81.218182</td>\n",
       "    </tr>\n",
       "    <tr>\n",
       "      <th>2</th>\n",
       "      <td>46.0</td>\n",
       "      <td>92.0</td>\n",
       "      <td>68.968750</td>\n",
       "    </tr>\n",
       "    <tr>\n",
       "      <th>3</th>\n",
       "      <td>56.0</td>\n",
       "      <td>109.0</td>\n",
       "      <td>80.135135</td>\n",
       "    </tr>\n",
       "    <tr>\n",
       "      <th>4</th>\n",
       "      <td>68.0</td>\n",
       "      <td>142.0</td>\n",
       "      <td>95.351536</td>\n",
       "    </tr>\n",
       "  </tbody>\n",
       "</table>\n",
       "</div>"
      ],
      "text/plain": [
       "   amin   amax        mean\n",
       "0  75.0  131.0  111.313953\n",
       "1  69.0  104.0   81.218182\n",
       "2  46.0   92.0   68.968750\n",
       "3  56.0  109.0   80.135135\n",
       "4  68.0  142.0   95.351536"
      ]
     },
     "execution_count": 135,
     "metadata": {},
     "output_type": "execute_result"
    },
    {
     "data": {
      "text/plain": [
       "0    0\n",
       "1    1\n",
       "2    1\n",
       "3    0\n",
       "4    0\n",
       "Name: hypertension, dtype: int64"
      ]
     },
     "execution_count": 135,
     "metadata": {},
     "output_type": "execute_result"
    },
    {
     "data": {
      "text/html": [
       "<div>\n",
       "<style scoped>\n",
       "    .dataframe tbody tr th:only-of-type {\n",
       "        vertical-align: middle;\n",
       "    }\n",
       "\n",
       "    .dataframe tbody tr th {\n",
       "        vertical-align: top;\n",
       "    }\n",
       "\n",
       "    .dataframe thead th {\n",
       "        text-align: right;\n",
       "    }\n",
       "</style>\n",
       "<table border=\"1\" class=\"dataframe\">\n",
       "  <thead>\n",
       "    <tr style=\"text-align: right;\">\n",
       "      <th></th>\n",
       "      <th>amin</th>\n",
       "      <th>amax</th>\n",
       "      <th>mean</th>\n",
       "    </tr>\n",
       "  </thead>\n",
       "  <tbody>\n",
       "    <tr>\n",
       "      <th>0</th>\n",
       "      <td>64.0</td>\n",
       "      <td>117.0</td>\n",
       "      <td>79.382353</td>\n",
       "    </tr>\n",
       "    <tr>\n",
       "      <th>1</th>\n",
       "      <td>72.0</td>\n",
       "      <td>97.0</td>\n",
       "      <td>84.307692</td>\n",
       "    </tr>\n",
       "    <tr>\n",
       "      <th>2</th>\n",
       "      <td>73.0</td>\n",
       "      <td>162.0</td>\n",
       "      <td>93.312925</td>\n",
       "    </tr>\n",
       "    <tr>\n",
       "      <th>3</th>\n",
       "      <td>62.0</td>\n",
       "      <td>115.0</td>\n",
       "      <td>73.945946</td>\n",
       "    </tr>\n",
       "    <tr>\n",
       "      <th>4</th>\n",
       "      <td>72.0</td>\n",
       "      <td>90.0</td>\n",
       "      <td>80.972222</td>\n",
       "    </tr>\n",
       "  </tbody>\n",
       "</table>\n",
       "</div>"
      ],
      "text/plain": [
       "   amin   amax       mean\n",
       "0  64.0  117.0  79.382353\n",
       "1  72.0   97.0  84.307692\n",
       "2  73.0  162.0  93.312925\n",
       "3  62.0  115.0  73.945946\n",
       "4  72.0   90.0  80.972222"
      ]
     },
     "execution_count": 135,
     "metadata": {},
     "output_type": "execute_result"
    },
    {
     "data": {
      "text/plain": [
       "0    0\n",
       "1    1\n",
       "2    1\n",
       "3    1\n",
       "4    1\n",
       "Name: hypertension, dtype: int64"
      ]
     },
     "execution_count": 135,
     "metadata": {},
     "output_type": "execute_result"
    }
   ],
   "source": [
    "hr_data.train.data.head()\n",
    "hr_data.train.target.head()\n",
    "hr_data.test.data.head()\n",
    "hr_data.test.target.head()"
   ]
  }
 ],
 "metadata": {
  "kernelspec": {
   "display_name": "Python 3",
   "language": "python",
   "name": "python3"
  },
  "language_info": {
   "codemirror_mode": {
    "name": "ipython",
    "version": 3
   },
   "file_extension": ".py",
   "mimetype": "text/x-python",
   "name": "python",
   "nbconvert_exporter": "python",
   "pygments_lexer": "ipython3",
   "version": "3.6.7"
  }
 },
 "nbformat": 4,
 "nbformat_minor": 2
}
