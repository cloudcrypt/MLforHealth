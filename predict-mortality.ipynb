{
 "cells": [
  {
   "cell_type": "markdown",
   "metadata": {},
   "source": [
    "### Part 2: Predicting mortality in ICUs\n",
    "#### Part a:"
   ]
  },
  {
   "cell_type": "code",
   "execution_count": 28,
   "metadata": {},
   "outputs": [],
   "source": [
    "import numpy as np\n",
    "import pandas as pd\n",
    "import scipy as sp\n",
    "import matplotlib.pyplot as plt\n",
    "from sklearn.linear_model import LogisticRegression\n",
    "from sklearn.feature_extraction.text import CountVectorizer, TfidfVectorizer\n",
    "from sklearn.preprocessing import MinMaxScaler\n",
    "from sklearn import metrics\n",
    "from sklearn.metrics import roc_curve\n",
    "from nltk.tokenize import word_tokenize\n",
    "from nltk.corpus import stopwords\n",
    "import string, re"
   ]
  },
  {
   "cell_type": "code",
   "execution_count": 13,
   "metadata": {},
   "outputs": [],
   "source": [
    "class Data:\n",
    "    def __init__(self, data, target):\n",
    "        self.data = data\n",
    "        self.target = target\n",
    "    def getCleanData():\n",
    "        pass\n",
    "    def getCleanTarget():\n",
    "        pass\n",
    "    def getClean(df: pd.DataFrame) -> pd.DataFrame:\n",
    "        pass \n",
    "    \n",
    "class Dataset:\n",
    "    def __init__(self, train: Data, test: Data):\n",
    "        self.train = train\n",
    "        self.test = test"
   ]
  },
  {
   "cell_type": "code",
   "execution_count": 4,
   "metadata": {},
   "outputs": [
    {
     "data": {
      "text/html": [
       "<div>\n",
       "<style scoped>\n",
       "    .dataframe tbody tr th:only-of-type {\n",
       "        vertical-align: middle;\n",
       "    }\n",
       "\n",
       "    .dataframe tbody tr th {\n",
       "        vertical-align: top;\n",
       "    }\n",
       "\n",
       "    .dataframe thead th {\n",
       "        text-align: right;\n",
       "    }\n",
       "</style>\n",
       "<table border=\"1\" class=\"dataframe\">\n",
       "  <thead>\n",
       "    <tr style=\"text-align: right;\">\n",
       "      <th></th>\n",
       "      <th>A</th>\n",
       "      <th>B</th>\n",
       "      <th>C</th>\n",
       "      <th>D</th>\n",
       "      <th>E</th>\n",
       "    </tr>\n",
       "  </thead>\n",
       "  <tbody>\n",
       "    <tr>\n",
       "      <th>0</th>\n",
       "      <td>0.0</td>\n",
       "      <td>0.0</td>\n",
       "      <td>1.0</td>\n",
       "      <td>0.0</td>\n",
       "      <td>0.0</td>\n",
       "    </tr>\n",
       "    <tr>\n",
       "      <th>1</th>\n",
       "      <td>1.0</td>\n",
       "      <td>0.5</td>\n",
       "      <td>0.0</td>\n",
       "      <td>1.0</td>\n",
       "      <td>1.0</td>\n",
       "    </tr>\n",
       "    <tr>\n",
       "      <th>2</th>\n",
       "      <td>1.0</td>\n",
       "      <td>1.0</td>\n",
       "      <td>0.0</td>\n",
       "      <td>1.0</td>\n",
       "      <td>1.0</td>\n",
       "    </tr>\n",
       "  </tbody>\n",
       "</table>\n",
       "</div>"
      ],
      "text/plain": [
       "     A    B    C    D    E\n",
       "0  0.0  0.0  1.0  0.0  0.0\n",
       "1  1.0  0.5  0.0  1.0  1.0\n",
       "2  1.0  1.0  0.0  1.0  1.0"
      ]
     },
     "execution_count": 4,
     "metadata": {},
     "output_type": "execute_result"
    }
   ],
   "source": [
    "min_max_scaler = MinMaxScaler()\n",
    "tdf = pd.DataFrame([[1,2,1,0,1],[5,4,0,1,2],[5,6,0,1,2]], columns=[\"A\",\"B\",\"C\",\"D\",\"E\"])\n",
    "#min_max_scaler.fit_transform(tdf.iloc[:,-2:-1].values.reshape(2,1))\n",
    "tdf.iloc[:,0:] = min_max_scaler.fit_transform(tdf.iloc[:,0:].values.astype(float))\n",
    "tdf\n",
    "#tdf.iloc[:,-1].values.reshape(2,1)"
   ]
  },
  {
   "cell_type": "code",
   "execution_count": 14,
   "metadata": {
    "scrolled": true
   },
   "outputs": [
    {
     "data": {
      "text/plain": [
       "(18983, 60)"
      ]
     },
     "metadata": {},
     "output_type": "display_data"
    },
    {
     "data": {
      "text/plain": [
       "(8365, 60)"
      ]
     },
     "metadata": {},
     "output_type": "display_data"
    },
    {
     "data": {
      "text/html": [
       "<div>\n",
       "<style scoped>\n",
       "    .dataframe tbody tr th:only-of-type {\n",
       "        vertical-align: middle;\n",
       "    }\n",
       "\n",
       "    .dataframe tbody tr th {\n",
       "        vertical-align: top;\n",
       "    }\n",
       "\n",
       "    .dataframe thead th {\n",
       "        text-align: right;\n",
       "    }\n",
       "</style>\n",
       "<table border=\"1\" class=\"dataframe\">\n",
       "  <thead>\n",
       "    <tr style=\"text-align: right;\">\n",
       "      <th></th>\n",
       "      <th>subject_id</th>\n",
       "      <th>hadm_id</th>\n",
       "      <th>icustay_id</th>\n",
       "      <th>age</th>\n",
       "      <th>first_hosp_stay</th>\n",
       "      <th>first_icu_stay</th>\n",
       "      <th>adult_icu</th>\n",
       "      <th>eth_asian</th>\n",
       "      <th>eth_black</th>\n",
       "      <th>eth_hispanic</th>\n",
       "      <th>...</th>\n",
       "      <th>magnesium</th>\n",
       "      <th>phosphate</th>\n",
       "      <th>platelet</th>\n",
       "      <th>potassium</th>\n",
       "      <th>ptt</th>\n",
       "      <th>inr</th>\n",
       "      <th>pt</th>\n",
       "      <th>sodium</th>\n",
       "      <th>bun</th>\n",
       "      <th>wbc</th>\n",
       "    </tr>\n",
       "  </thead>\n",
       "  <tbody>\n",
       "    <tr>\n",
       "      <th>0</th>\n",
       "      <td>6</td>\n",
       "      <td>107064</td>\n",
       "      <td>228232</td>\n",
       "      <td>0.671233</td>\n",
       "      <td>1.0</td>\n",
       "      <td>1.0</td>\n",
       "      <td>0.0</td>\n",
       "      <td>0.0</td>\n",
       "      <td>0.0</td>\n",
       "      <td>0.0</td>\n",
       "      <td>...</td>\n",
       "      <td>0.059233</td>\n",
       "      <td>0.482353</td>\n",
       "      <td>0.135549</td>\n",
       "      <td>0.333333</td>\n",
       "      <td>0.919942</td>\n",
       "      <td>0.022843</td>\n",
       "      <td>0.046479</td>\n",
       "      <td>0.551020</td>\n",
       "      <td>0.225092</td>\n",
       "      <td>0.017497</td>\n",
       "    </tr>\n",
       "    <tr>\n",
       "      <th>1</th>\n",
       "      <td>9</td>\n",
       "      <td>150750</td>\n",
       "      <td>220597</td>\n",
       "      <td>0.342466</td>\n",
       "      <td>1.0</td>\n",
       "      <td>1.0</td>\n",
       "      <td>0.0</td>\n",
       "      <td>0.0</td>\n",
       "      <td>0.0</td>\n",
       "      <td>0.0</td>\n",
       "      <td>...</td>\n",
       "      <td>0.052265</td>\n",
       "      <td>0.152941</td>\n",
       "      <td>0.110625</td>\n",
       "      <td>0.126984</td>\n",
       "      <td>0.066230</td>\n",
       "      <td>0.015228</td>\n",
       "      <td>0.033099</td>\n",
       "      <td>0.571429</td>\n",
       "      <td>0.055351</td>\n",
       "      <td>0.012331</td>\n",
       "    </tr>\n",
       "    <tr>\n",
       "      <th>2</th>\n",
       "      <td>13</td>\n",
       "      <td>143045</td>\n",
       "      <td>263738</td>\n",
       "      <td>0.315068</td>\n",
       "      <td>1.0</td>\n",
       "      <td>1.0</td>\n",
       "      <td>0.0</td>\n",
       "      <td>0.0</td>\n",
       "      <td>0.0</td>\n",
       "      <td>0.0</td>\n",
       "      <td>...</td>\n",
       "      <td>0.045296</td>\n",
       "      <td>0.211765</td>\n",
       "      <td>0.092261</td>\n",
       "      <td>0.182540</td>\n",
       "      <td>0.229258</td>\n",
       "      <td>0.017766</td>\n",
       "      <td>0.040141</td>\n",
       "      <td>0.561224</td>\n",
       "      <td>0.044280</td>\n",
       "      <td>0.027495</td>\n",
       "    </tr>\n",
       "    <tr>\n",
       "      <th>3</th>\n",
       "      <td>41</td>\n",
       "      <td>101757</td>\n",
       "      <td>237024</td>\n",
       "      <td>0.547945</td>\n",
       "      <td>1.0</td>\n",
       "      <td>0.0</td>\n",
       "      <td>0.0</td>\n",
       "      <td>0.0</td>\n",
       "      <td>0.0</td>\n",
       "      <td>0.0</td>\n",
       "      <td>...</td>\n",
       "      <td>0.055749</td>\n",
       "      <td>0.194118</td>\n",
       "      <td>0.077394</td>\n",
       "      <td>0.238095</td>\n",
       "      <td>0.182481</td>\n",
       "      <td>0.026596</td>\n",
       "      <td>0.057131</td>\n",
       "      <td>0.500000</td>\n",
       "      <td>0.047970</td>\n",
       "      <td>0.018497</td>\n",
       "    </tr>\n",
       "    <tr>\n",
       "      <th>4</th>\n",
       "      <td>59</td>\n",
       "      <td>104130</td>\n",
       "      <td>224440</td>\n",
       "      <td>0.972603</td>\n",
       "      <td>1.0</td>\n",
       "      <td>1.0</td>\n",
       "      <td>0.0</td>\n",
       "      <td>0.0</td>\n",
       "      <td>0.0</td>\n",
       "      <td>0.0</td>\n",
       "      <td>...</td>\n",
       "      <td>0.038328</td>\n",
       "      <td>0.400000</td>\n",
       "      <td>0.069086</td>\n",
       "      <td>0.206349</td>\n",
       "      <td>0.405386</td>\n",
       "      <td>0.022843</td>\n",
       "      <td>0.052113</td>\n",
       "      <td>0.561224</td>\n",
       "      <td>0.217712</td>\n",
       "      <td>0.007999</td>\n",
       "    </tr>\n",
       "  </tbody>\n",
       "</table>\n",
       "<p>5 rows × 60 columns</p>\n",
       "</div>"
      ],
      "text/plain": [
       "   subject_id  hadm_id  icustay_id       age  first_hosp_stay  first_icu_stay  \\\n",
       "0           6   107064      228232  0.671233              1.0             1.0   \n",
       "1           9   150750      220597  0.342466              1.0             1.0   \n",
       "2          13   143045      263738  0.315068              1.0             1.0   \n",
       "3          41   101757      237024  0.547945              1.0             0.0   \n",
       "4          59   104130      224440  0.972603              1.0             1.0   \n",
       "\n",
       "   adult_icu  eth_asian  eth_black  eth_hispanic  ...  magnesium  phosphate  \\\n",
       "0        0.0        0.0        0.0           0.0  ...   0.059233   0.482353   \n",
       "1        0.0        0.0        0.0           0.0  ...   0.052265   0.152941   \n",
       "2        0.0        0.0        0.0           0.0  ...   0.045296   0.211765   \n",
       "3        0.0        0.0        0.0           0.0  ...   0.055749   0.194118   \n",
       "4        0.0        0.0        0.0           0.0  ...   0.038328   0.400000   \n",
       "\n",
       "   platelet  potassium       ptt       inr        pt    sodium       bun  \\\n",
       "0  0.135549   0.333333  0.919942  0.022843  0.046479  0.551020  0.225092   \n",
       "1  0.110625   0.126984  0.066230  0.015228  0.033099  0.571429  0.055351   \n",
       "2  0.092261   0.182540  0.229258  0.017766  0.040141  0.561224  0.044280   \n",
       "3  0.077394   0.238095  0.182481  0.026596  0.057131  0.500000  0.047970   \n",
       "4  0.069086   0.206349  0.405386  0.022843  0.052113  0.561224  0.217712   \n",
       "\n",
       "        wbc  \n",
       "0  0.017497  \n",
       "1  0.012331  \n",
       "2  0.027495  \n",
       "3  0.018497  \n",
       "4  0.007999  \n",
       "\n",
       "[5 rows x 60 columns]"
      ]
     },
     "metadata": {},
     "output_type": "display_data"
    },
    {
     "data": {
      "text/plain": [
       "Index(['age', 'first_hosp_stay', 'first_icu_stay', 'adult_icu', 'eth_asian',\n",
       "       'eth_black', 'eth_hispanic', 'eth_other', 'eth_white',\n",
       "       'admType_ELECTIVE', 'admType_EMERGENCY', 'admType_NEWBORN',\n",
       "       'admType_URGENT', 'heartrate_min', 'heartrate_max', 'heartrate_mean',\n",
       "       'sysbp_min', 'sysbp_max', 'sysbp_mean', 'diasbp_min', 'diasbp_max',\n",
       "       'diasbp_mean', 'meanbp_min', 'meanbp_max', 'meanbp_mean',\n",
       "       'resprate_min', 'resprate_max', 'resprate_mean', 'tempc_min',\n",
       "       'tempc_max', 'tempc_mean', 'spo2_min', 'spo2_max', 'spo2_mean',\n",
       "       'glucose_min', 'glucose_max', 'glucose_mean', 'aniongap', 'albumin',\n",
       "       'bicarbonate', 'bilirubin', 'creatinine', 'chloride', 'glucose',\n",
       "       'hematocrit', 'hemoglobin', 'lactate', 'magnesium', 'phosphate',\n",
       "       'platelet', 'potassium', 'ptt', 'inr', 'pt', 'sodium', 'bun', 'wbc'],\n",
       "      dtype='object')"
      ]
     },
     "metadata": {},
     "output_type": "display_data"
    }
   ],
   "source": [
    "dataset = pd.read_csv(\"~/csc2548_ml4h/adult_icu.gz\", compression='gzip')\n",
    "\n",
    "min_max_scaler = MinMaxScaler()\n",
    "dataset.iloc[:,3:] = min_max_scaler.fit_transform(dataset.iloc[:,3:].values.astype(float))\n",
    "\n",
    "trainset = dataset[dataset.train == 1]\n",
    "trainset.reset_index(drop=True, inplace=True)\n",
    "trainset.pop(\"train\")\n",
    "target = trainset.pop(\"mort_icu\")\n",
    "train = Data(trainset, target)\n",
    "\n",
    "testset = dataset[dataset.train == 0]\n",
    "testset.reset_index(drop=True, inplace=True)\n",
    "testset.pop(\"train\")\n",
    "target = testset.pop(\"mort_icu\")\n",
    "test = Data(testset, target)\n",
    "\n",
    "adult_icu = Dataset(train, test)\n",
    "\n",
    "display(adult_icu.train.data.shape)\n",
    "display(adult_icu.test.data.shape)\n",
    "display(adult_icu.test.data.head())\n",
    "display(adult_icu.test.data.drop([\"subject_id\", \"hadm_id\", \"icustay_id\"], axis=1).columns)"
   ]
  },
  {
   "cell_type": "code",
   "execution_count": 15,
   "metadata": {},
   "outputs": [
    {
     "data": {
      "text/plain": [
       "LogisticRegression(C=1.0, class_weight=None, dual=False, fit_intercept=True,\n",
       "          intercept_scaling=1, max_iter=2000, multi_class='warn',\n",
       "          n_jobs=None, penalty='l2', random_state=None, solver='liblinear',\n",
       "          tol=0.0001, verbose=0, warm_start=False)"
      ]
     },
     "execution_count": 15,
     "metadata": {},
     "output_type": "execute_result"
    }
   ],
   "source": [
    "logisticRegression = LogisticRegression(penalty='l2', solver='liblinear', max_iter=2000)\n",
    "logisticRegression.fit(adult_icu.train.data.drop([\"subject_id\", \"hadm_id\", \"icustay_id\"], axis=1), adult_icu.train.target)"
   ]
  },
  {
   "cell_type": "code",
   "execution_count": 44,
   "metadata": {
    "collapsed": true
   },
   "outputs": [
    {
     "data": {
      "text/plain": [
       "array([[3, 145834, 211552, 0.821917808219178, 1.0, 1.0, 0.0, 0.0, 0.0,\n",
       "        0.0, 0.0, 1.0, 0.0, 1.0, 0.0, 0.0, 0.4557823129483981,\n",
       "        0.5066079295154186, 0.531497002320545, 0.4150146246117206,\n",
       "        0.6187050359712231, 0.4904365904365902, 0.3121335138128101,\n",
       "        0.17948717948717946, 0.40239270793771365, 0.37150084409195366,\n",
       "        0.8507462686567164, 0.5052469973999707, 0.13407821221841765,\n",
       "        0.29824561403508776, 0.2508262668281881, 0.8446215443402193,\n",
       "        0.5145856040500583, 0.6113592723660259, 0.7386934673366834, 1.0,\n",
       "        0.9739276703111854, 0.20158330091175128, 0.000244015372968497,\n",
       "        0.001514141481779831, 0.26785714285714285, 0.1702127659574468,\n",
       "        0.4509803921568627, 0.008464328899637243, 0.07226107226107227,\n",
       "        0.6790299572039943, 0.0355917667238422, 0.4084278768233387,\n",
       "        0.40609137055837563, 0.14925373134328357, 0.07317073170731707,\n",
       "        0.2647058823529412, 0.12111937035417578, 0.33333333333333337,\n",
       "        0.13173216885007277, 0.020304568527918784, 0.03873239436619718,\n",
       "        0.5306122448979592, 0.19188191881918817, 0.020996500583236127],\n",
       "       [12, 112213, 232669, 0.7671232876712328, 1.0, 1.0, 0.0, 0.0, 0.0,\n",
       "        0.0, 0.0, 1.0, 1.0, 0.0, 0.0, 0.0, 0.4987468671893141,\n",
       "        0.22907488986784144, 0.39887809063207824, 0.6360090997584039,\n",
       "        0.6690647482014389, 0.713097713097713, 0.6165990076989434,\n",
       "        0.315018315018315, 0.5186574249905052, 0.6795291821812117,\n",
       "        0.48507462686567165, 0.6764306690623849, 0.21787709490695786,\n",
       "        0.19298245614035087, 0.22131880010809907, 0.8167331015024105,\n",
       "        0.5274213258972509, 0.5873498622661808, 0.9396984924623115, 1.0,\n",
       "        0.9621774478614356, 0.13222930798247545, 0.00012900812751203325,\n",
       "        0.0007961701931221198, 0.4642857142857143, 0.2978723404255319,\n",
       "        0.17647058823529413, 0.09794437726723094, 0.027972027972027975,\n",
       "        0.7788873038516405, 0.06946826758147512, 0.3727714748784441,\n",
       "        0.37055837563451777, 0.1380597014925373, 0.048780487804878044,\n",
       "        0.3705882352941176, 0.06602536073458679, 0.29365079365079366,\n",
       "        0.31004366812227074, 0.03045685279187817, 0.05563380281690141,\n",
       "        0.5510204081632651, 0.0996309963099631, 0.013831028161973003],\n",
       "       [17, 194023, 277042, 0.42465753424657526, 1.0, 1.0, 0.0, 0.0, 0.0,\n",
       "        0.0, 0.0, 1.0, 1.0, 0.0, 0.0, 0.0, 0.4414607948680928,\n",
       "        0.2687224669603524, 0.39205744957590527, 0.32401689955132157,\n",
       "        0.33453237410071945, 0.45507992229303934, 0.3346865133599311,\n",
       "        0.1684981684981685, 0.3594821091692451, 0.4928453409149947, 0.25,\n",
       "        0.4454877412623891, 0.32960893849167816, 0.4035087719298245,\n",
       "        0.39720388657126404, 0.8366534540008365, 0.5565928544853511,\n",
       "        0.5674161362236267, 0.9195979899497487, 1.0, 0.9780487804878051,\n",
       "        0.12207994316355703, 0.00010400655241280199,\n",
       "        0.0007570707408899155, 0.17857142857142855, 0.43184067293419104,\n",
       "        0.4117647058823529, 0.027960656728844138, 0.01631701631701632,\n",
       "        0.7717546362339516, 0.03773584905660377, 0.5834683954619124,\n",
       "        0.5939086294416244, 0.02238805970149254, 0.03832752613240418,\n",
       "        0.1, 0.058154787931788375, 0.21428571428571425,\n",
       "        0.13973799126637557, 0.02538071065989848, 0.048591549295774646,\n",
       "        0.5612244897959183, 0.03690036900369004, 0.017330444925845692],\n",
       "       [21, 109451, 217847, 0.9726027397260273, 1.0, 1.0, 0.0, 0.0, 0.0,\n",
       "        0.0, 0.0, 1.0, 0.0, 1.0, 0.0, 0.0, 0.21231650558320772,\n",
       "        0.31718061674008813, 0.30169514220002336, 0.5970100747325187,\n",
       "        0.38848920863309355, 0.5324472824472806, 0.37979251245417306,\n",
       "        0.14285714285714285, 0.31638272475720286, 0.5488504932948598,\n",
       "        0.23134328358208955, 0.5072596070248652, 0.30167597759549813,\n",
       "        0.24561403508771928, 0.23047473200612506, 0.8123062626879641,\n",
       "        0.49824979730914976, 0.5152586078009032, 0.949748743718593, 1.0,\n",
       "        0.9908536585365855, 0.13561242958878159, 0.000172010836682711,\n",
       "        0.0007324794210103972, 0.42857142857142855, 0.4380815001803101,\n",
       "        0.2549019607843137, 0.003627569528415962, 0.08391608391608392,\n",
       "        0.7146932952924394, 0.06560891938250428, 0.35656401944894656,\n",
       "        0.35532994923857864, 0.05970149253731343, 0.059233449477351915,\n",
       "        0.3294117647058824, 0.11193703541757762, 0.30158730158730157,\n",
       "        0.9999999999999999, 0.08883248730964467, 0.10915492957746478,\n",
       "        0.5714285714285713, 0.3431734317343173, 0.038993501083152804],\n",
       "       [21, 111970, 216859, 0.9726027397260273, 0.0, 1.0, 0.0, 0.0, 0.0,\n",
       "        0.0, 0.0, 1.0, 0.0, 1.0, 0.0, 0.0, 0.4701038310287034,\n",
       "        0.20704845814977976, 0.35139218424332264, 0.5060123496721196,\n",
       "        0.3057553956834532, 0.4388706324190191, 0.2331980153978867,\n",
       "        0.20879120879120877, 0.24242554182032, 0.3995034202818862,\n",
       "        0.30970149253731344, 0.3687152593908175, 0.30167597759549813,\n",
       "        0.2631578947368421, 0.2838274797278638, 0.8344399501602949,\n",
       "        0.5507586377921663, 0.5971326055492518, 0.7889447236180904, 1.0,\n",
       "        0.9566683964711988, 0.23203139536850653, 0.00015100951359935675,\n",
       "        0.0011376882640875925, 0.30357142857142855, 0.2340425531914894,\n",
       "        0.4117647058823529, 0.0024183796856106403, 0.09557109557109558,\n",
       "        0.6790299572039943, 0.08233276157804459, 0.39870340356564016,\n",
       "        0.36040609137055835, 0.048507462686567165, 0.041811846689895474,\n",
       "        0.24117647058823533, 0.11805859204197638, 0.20634920634920634,\n",
       "        0.13901018922852984, 0.03045685279187817, 0.0711267605633803,\n",
       "        0.5408163265306122, 0.17712177121771217, 0.050658223629395094]],\n",
       "      dtype=object)"
      ]
     },
     "execution_count": 44,
     "metadata": {},
     "output_type": "execute_result"
    }
   ],
   "source": [
    "adult_icu.train.data.head().to_sparse().values"
   ]
  },
  {
   "cell_type": "code",
   "execution_count": 16,
   "metadata": {},
   "outputs": [
    {
     "data": {
      "image/png": "[encoded data removed]",
      "text/plain": [
       "<Figure size 432x288 with 1 Axes>"
      ]
     },
     "metadata": {
      "needs_background": "light"
     },
     "output_type": "display_data"
    },
    {
     "data": {
      "text/plain": [
       "'AUC Score = 0.79'"
      ]
     },
     "metadata": {},
     "output_type": "display_data"
    }
   ],
   "source": [
    "prediction = logisticRegression.predict_proba(adult_icu.test.data.drop([\"subject_id\", \"hadm_id\", \"icustay_id\"], axis=1))\n",
    "fpr, tpr, thresholds = roc_curve(adult_icu.test.target.values, prediction[:, 1])\n",
    "auc = metrics.auc(fpr, tpr)\n",
    "\n",
    "plt.figure()\n",
    "plt.plot(fpr, tpr, label='ROC curve (area = %0.2f)' % auc)\n",
    "plt.plot([0, 1], [0, 1], 'k--')\n",
    "plt.xlim([0.0, 1.0])\n",
    "plt.ylim([0.0, 1.05])\n",
    "plt.xlabel('False Positive Rate')\n",
    "plt.ylabel('True Positive Rate')\n",
    "plt.title('Receiver Operating Characteristic Curve')\n",
    "plt.legend(loc=\"lower right\")\n",
    "plt.show()\n",
    "display(\"AUC Score = \" + str(round(auc, 2)))"
   ]
  },
  {
   "cell_type": "markdown",
   "metadata": {},
   "source": [
    "# Comment on model performance"
   ]
  },
  {
   "cell_type": "code",
   "execution_count": 17,
   "metadata": {},
   "outputs": [
    {
     "data": {
      "text/plain": [
       "'90.84%'"
      ]
     },
     "execution_count": 17,
     "metadata": {},
     "output_type": "execute_result"
    }
   ],
   "source": [
    "accuracy = logisticRegression.score(test.data.drop([\"subject_id\", \"hadm_id\", \"icustay_id\"], axis=1), test.target) * 100\n",
    "str(round(accuracy, 2)) + \"%\""
   ]
  },
  {
   "cell_type": "code",
   "execution_count": 18,
   "metadata": {},
   "outputs": [
    {
     "data": {
      "text/plain": [
       "'Top 5 risk factors of mortality:'"
      ]
     },
     "metadata": {},
     "output_type": "display_data"
    },
    {
     "data": {
      "text/plain": [
       "['bilirubin', 'lactate', 'tempc_max', 'meanbp_mean', 'bun']"
      ]
     },
     "metadata": {},
     "output_type": "display_data"
    },
    {
     "data": {
      "text/plain": [
       "'Lowest 5 risk factors of mortality:'"
      ]
     },
     "metadata": {},
     "output_type": "display_data"
    },
    {
     "data": {
      "text/plain": [
       "['albumin', 'sysbp_min', 'platelet', 'tempc_mean', 'tempc_min']"
      ]
     },
     "metadata": {},
     "output_type": "display_data"
    }
   ],
   "source": [
    "feature_coefs = pd.Series(logisticRegression.coef_[0], index=train.data.drop([\"subject_id\", \"hadm_id\", \"icustay_id\"], axis=1).columns)\n",
    "feature_coefs.sort_values(ascending=False, inplace=True)\n",
    "display(\"Top 5 risk factors of mortality:\")\n",
    "display(feature_coefs.head(5).index.tolist())\n",
    "display(\"Lowest 5 risk factors of mortality:\")\n",
    "display(feature_coefs.tail(5).index.tolist())"
   ]
  },
  {
   "cell_type": "markdown",
   "metadata": {},
   "source": [
    "# Explain what the above means"
   ]
  },
  {
   "cell_type": "markdown",
   "metadata": {},
   "source": [
    "#### Part b:"
   ]
  },
  {
   "cell_type": "code",
   "execution_count": 19,
   "metadata": {},
   "outputs": [
    {
     "data": {
      "text/plain": [
       "(17956, 4)"
      ]
     },
     "metadata": {},
     "output_type": "display_data"
    },
    {
     "data": {
      "text/plain": [
       "(7923, 4)"
      ]
     },
     "metadata": {},
     "output_type": "display_data"
    }
   ],
   "source": [
    "dataset = pd.read_csv(\"~/csc2548_ml4h/adult_notes.gz\", compression='gzip')\n",
    "dataset = dataset[~pd.isnull(dataset.chartext)]\n",
    "\n",
    "trainset = dataset[dataset.train == 1]\n",
    "trainset.reset_index(drop=True, inplace=True)\n",
    "trainset.pop(\"train\")\n",
    "target = trainset.pop(\"mort_icu\")\n",
    "train = Data(trainset, target)\n",
    "\n",
    "testset = dataset[dataset.train == 0]\n",
    "testset.reset_index(drop=True, inplace=True)\n",
    "testset.pop(\"train\")\n",
    "target = testset.pop(\"mort_icu\")\n",
    "test = Data(testset, target)\n",
    "\n",
    "adult_notes = Dataset(train, test)\n",
    "\n",
    "display(adult_notes.train.data.shape)\n",
    "display(adult_notes.test.data.shape)"
   ]
  },
  {
   "cell_type": "code",
   "execution_count": 24,
   "metadata": {},
   "outputs": [
    {
     "data": {
      "text/plain": [
       "(5,)"
      ]
     },
     "execution_count": 24,
     "metadata": {},
     "output_type": "execute_result"
    }
   ],
   "source": [
    "def testfunc(x):\n",
    "    return x + 2\n",
    "testdf = pd.DataFrame([1,2,3,4,5], columns=[\"A\"])\n",
    "testdf.A = testfunc(testdf.A)\n",
    "testdf.A\n",
    "adult_notes.train.data.chartext.head().values.shape"
   ]
  },
  {
   "cell_type": "code",
   "execution_count": 26,
   "metadata": {},
   "outputs": [
    {
     "data": {
      "text/plain": [
       "374355"
      ]
     },
     "metadata": {},
     "output_type": "display_data"
    }
   ],
   "source": [
    "stopwordList = stopwords.words(\"english\")\n",
    "\n",
    "def tokenize(s):\n",
    "    return [j for j in [re.sub(\"\\W+\", '', i) for i in word_tokenize(s.lower())] \n",
    "            if j not in stopwordList and j != '']\n",
    "\n",
    "vectorizer = TfidfVectorizer(tokenizer=tokenize)\n",
    "vectorizer.fit(adult_notes.train.data.chartext)\n",
    "#testout = vectorizer.fit_transform(notes_train.data.head().chartext)\n",
    "display(len(vectorizer.get_feature_names()))\n",
    "#display(testout.toarray().shape)\n",
    "\n",
    "#notes_train.data = notes_train.data.join(pd.DataFrame(testout.toarray(), columns=vectorizer.get_feature_names()))\n",
    "\n",
    "#pd.DataFrame(testout.toarray(), columns=vectorizer.get_feature_names())\n",
    "#notes_test.data.reset_index(drop=True, inplace=True)#print(vectorizer.get_feature_names()[0])"
   ]
  },
  {
   "cell_type": "code",
   "execution_count": 53,
   "metadata": {},
   "outputs": [],
   "source": [
    "import multiprocessing\n",
    "from multiprocessing import Pool\n",
    "\n",
    "num_cores = multiprocessing.cpu_count()\n",
    "num_partitions = num_cores - 1 if num_cores > 1 else 1\n",
    "\n",
    "def parallelize_dataframe(df, func):\n",
    "    a = np.array_split(df, num_partitions)\n",
    "    #del df\n",
    "    pool = Pool(num_cores)\n",
    "    #df = pd.concat(pool.map(func, [a,b,c,d,e]))\n",
    "    df = sp.sparse.vstack(pool.map(func, a), format='csr')\n",
    "    pool.close()\n",
    "    pool.join()\n",
    "    return df"
   ]
  },
  {
   "cell_type": "code",
   "execution_count": 54,
   "metadata": {},
   "outputs": [
    {
     "data": {
      "text/plain": [
       "<17956x374355 sparse matrix of type '<class 'numpy.float64'>'\n",
       "\twith 11665539 stored elements in Compressed Sparse Row format>"
      ]
     },
     "execution_count": 54,
     "metadata": {},
     "output_type": "execute_result"
    }
   ],
   "source": [
    "vectorizer.get_feature_names()\n",
    "#train_transformed = vectorizer.transform(adult_notes.train.data.chartext)\n",
    "#test_transformed = vectorizer.transform(adult_notes.test.data.chartext)\n",
    "# the below takes 6 minutes\n",
    "train_transformed = parallelize_dataframe(adult_notes.train.data.chartext, vectorizer.transform)\n",
    "test_transformed = parallelize_dataframe(adult_notes.test.data.chartext, vectorizer.transform)\n",
    "train_transformed"
   ]
  },
  {
   "cell_type": "code",
   "execution_count": 59,
   "metadata": {},
   "outputs": [
    {
     "data": {
      "text/plain": [
       "LogisticRegression(C=1.0, class_weight=None, dual=False, fit_intercept=True,\n",
       "          intercept_scaling=1, max_iter=2000, multi_class='warn',\n",
       "          n_jobs=None, penalty='l1', random_state=None, solver='liblinear',\n",
       "          tol=0.0001, verbose=0, warm_start=False)"
      ]
     },
     "execution_count": 59,
     "metadata": {},
     "output_type": "execute_result"
    }
   ],
   "source": [
    "logisticRegression_b = LogisticRegression(penalty='l1', solver='liblinear', max_iter=2000)\n",
    "logisticRegression_b.fit(train_transformed, adult_notes.train.target)"
   ]
  },
  {
   "cell_type": "code",
   "execution_count": 60,
   "metadata": {},
   "outputs": [
    {
     "data": {
      "image/png": "[encoded data removed]",
      "text/plain": [
       "<Figure size 432x288 with 1 Axes>"
      ]
     },
     "metadata": {
      "needs_background": "light"
     },
     "output_type": "display_data"
    },
    {
     "data": {
      "text/plain": [
       "'AUC Score = 0.85'"
      ]
     },
     "metadata": {},
     "output_type": "display_data"
    }
   ],
   "source": [
    "prediction_b = logisticRegression_b.predict_proba(test_transformed)\n",
    "fpr_b, tpr_b, thresholds_b = roc_curve(adult_notes.test.target.values, prediction_b[:, 1])\n",
    "auc_b = metrics.auc(fpr_b, tpr_b)\n",
    "\n",
    "plt.figure()\n",
    "plt.plot(fpr_b, tpr_b, label='ROC curve (area = %0.2f)' % auc_b)\n",
    "plt.plot([0, 1], [0, 1], 'k--')\n",
    "plt.xlim([0.0, 1.0])\n",
    "plt.ylim([0.0, 1.05])\n",
    "plt.xlabel('False Positive Rate')\n",
    "plt.ylabel('True Positive Rate')\n",
    "plt.title('Receiver Operating Characteristic Curve')\n",
    "plt.legend(loc=\"lower right\")\n",
    "plt.show()\n",
    "display(\"AUC Score = \" + str(round(auc_b, 2)))"
   ]
  },
  {
   "cell_type": "code",
   "execution_count": 61,
   "metadata": {},
   "outputs": [
    {
     "data": {
      "text/plain": [
       "'91.48%'"
      ]
     },
     "execution_count": 61,
     "metadata": {},
     "output_type": "execute_result"
    }
   ],
   "source": [
    "accuracy_b= logisticRegression_b.score(test_transformed, adult_notes.test.target.values) * 100\n",
    "str(round(accuracy_b, 2)) + \"%\""
   ]
  },
  {
   "cell_type": "code",
   "execution_count": 62,
   "metadata": {},
   "outputs": [
    {
     "data": {
      "text/plain": [
       "'Top 5 risk factors of mortality:'"
      ]
     },
     "metadata": {},
     "output_type": "display_data"
    },
    {
     "data": {
      "text/plain": [
       "['prognosis', 'cmo', 'corneal', 'dnr', 'family']"
      ]
     },
     "metadata": {},
     "output_type": "display_data"
    },
    {
     "data": {
      "text/plain": [
       "'Lowest 5 risk factors of mortality:'"
      ]
     },
     "metadata": {},
     "output_type": "display_data"
    },
    {
     "data": {
      "text/plain": [
       "['intact', 'mae', 'clear', 'diet', 'extubation']"
      ]
     },
     "metadata": {},
     "output_type": "display_data"
    }
   ],
   "source": [
    "feature_coefs_b = pd.Series(logisticRegression_b.coef_[0], index=vectorizer.get_feature_names())\n",
    "feature_coefs_b.sort_values(ascending=False, inplace=True)\n",
    "display(\"Top 5 risk factors of mortality:\")\n",
    "display(feature_coefs_b.head(5).index.tolist())\n",
    "display(\"Lowest 5 risk factors of mortality:\")\n",
    "display(feature_coefs_b.tail(5).index.tolist())"
   ]
  },
  {
   "cell_type": "markdown",
   "metadata": {},
   "source": [
    "#### Part c:"
   ]
  },
  {
   "cell_type": "code",
   "execution_count": 38,
   "metadata": {},
   "outputs": [
    {
     "data": {
      "text/html": [
       "<div>\n",
       "<style scoped>\n",
       "    .dataframe tbody tr th:only-of-type {\n",
       "        vertical-align: middle;\n",
       "    }\n",
       "\n",
       "    .dataframe tbody tr th {\n",
       "        vertical-align: top;\n",
       "    }\n",
       "\n",
       "    .dataframe thead th {\n",
       "        text-align: right;\n",
       "    }\n",
       "</style>\n",
       "<table border=\"1\" class=\"dataframe\">\n",
       "  <thead>\n",
       "    <tr style=\"text-align: right;\">\n",
       "      <th></th>\n",
       "      <th>hadm_id</th>\n",
       "      <th>0</th>\n",
       "      <th>00</th>\n",
       "      <th>000</th>\n",
       "      <th>0000</th>\n",
       "      <th>00000100</th>\n",
       "      <th>00000700</th>\n",
       "      <th>00001700</th>\n",
       "      <th>0000313</th>\n",
       "      <th>00004</th>\n",
       "      <th>...</th>\n",
       "      <th>zysin</th>\n",
       "      <th>zysyn</th>\n",
       "      <th>zythro</th>\n",
       "      <th>zythromax</th>\n",
       "      <th>zyvo</th>\n",
       "      <th>zyvox</th>\n",
       "      <th>zyvoxzosynsteroids</th>\n",
       "      <th>zz</th>\n",
       "      <th>zzach</th>\n",
       "      <th>zzz8</th>\n",
       "    </tr>\n",
       "  </thead>\n",
       "  <tbody>\n",
       "    <tr>\n",
       "      <th>0</th>\n",
       "      <td>145834.0</td>\n",
       "      <td>0.0</td>\n",
       "      <td>0.0</td>\n",
       "      <td>0.0</td>\n",
       "      <td>0.0</td>\n",
       "      <td>0.0</td>\n",
       "      <td>0.0</td>\n",
       "      <td>0.0</td>\n",
       "      <td>0.0</td>\n",
       "      <td>0.0</td>\n",
       "      <td>...</td>\n",
       "      <td>0.0</td>\n",
       "      <td>0.0</td>\n",
       "      <td>0.0</td>\n",
       "      <td>0.0</td>\n",
       "      <td>0.0</td>\n",
       "      <td>0.0</td>\n",
       "      <td>0.0</td>\n",
       "      <td>0.0</td>\n",
       "      <td>0.0</td>\n",
       "      <td>0.0</td>\n",
       "    </tr>\n",
       "    <tr>\n",
       "      <th>1</th>\n",
       "      <td>112213.0</td>\n",
       "      <td>0.0</td>\n",
       "      <td>0.0</td>\n",
       "      <td>0.0</td>\n",
       "      <td>0.0</td>\n",
       "      <td>0.0</td>\n",
       "      <td>0.0</td>\n",
       "      <td>0.0</td>\n",
       "      <td>0.0</td>\n",
       "      <td>0.0</td>\n",
       "      <td>...</td>\n",
       "      <td>0.0</td>\n",
       "      <td>0.0</td>\n",
       "      <td>0.0</td>\n",
       "      <td>0.0</td>\n",
       "      <td>0.0</td>\n",
       "      <td>0.0</td>\n",
       "      <td>0.0</td>\n",
       "      <td>0.0</td>\n",
       "      <td>0.0</td>\n",
       "      <td>0.0</td>\n",
       "    </tr>\n",
       "    <tr>\n",
       "      <th>2</th>\n",
       "      <td>194023.0</td>\n",
       "      <td>0.0</td>\n",
       "      <td>0.0</td>\n",
       "      <td>0.0</td>\n",
       "      <td>0.0</td>\n",
       "      <td>0.0</td>\n",
       "      <td>0.0</td>\n",
       "      <td>0.0</td>\n",
       "      <td>0.0</td>\n",
       "      <td>0.0</td>\n",
       "      <td>...</td>\n",
       "      <td>0.0</td>\n",
       "      <td>0.0</td>\n",
       "      <td>0.0</td>\n",
       "      <td>0.0</td>\n",
       "      <td>0.0</td>\n",
       "      <td>0.0</td>\n",
       "      <td>0.0</td>\n",
       "      <td>0.0</td>\n",
       "      <td>0.0</td>\n",
       "      <td>0.0</td>\n",
       "    </tr>\n",
       "    <tr>\n",
       "      <th>3</th>\n",
       "      <td>109451.0</td>\n",
       "      <td>0.0</td>\n",
       "      <td>0.0</td>\n",
       "      <td>0.0</td>\n",
       "      <td>0.0</td>\n",
       "      <td>0.0</td>\n",
       "      <td>0.0</td>\n",
       "      <td>0.0</td>\n",
       "      <td>0.0</td>\n",
       "      <td>0.0</td>\n",
       "      <td>...</td>\n",
       "      <td>0.0</td>\n",
       "      <td>0.0</td>\n",
       "      <td>0.0</td>\n",
       "      <td>0.0</td>\n",
       "      <td>0.0</td>\n",
       "      <td>0.0</td>\n",
       "      <td>0.0</td>\n",
       "      <td>0.0</td>\n",
       "      <td>0.0</td>\n",
       "      <td>0.0</td>\n",
       "    </tr>\n",
       "    <tr>\n",
       "      <th>4</th>\n",
       "      <td>111970.0</td>\n",
       "      <td>0.0</td>\n",
       "      <td>0.0</td>\n",
       "      <td>0.0</td>\n",
       "      <td>0.0</td>\n",
       "      <td>0.0</td>\n",
       "      <td>0.0</td>\n",
       "      <td>0.0</td>\n",
       "      <td>0.0</td>\n",
       "      <td>0.0</td>\n",
       "      <td>...</td>\n",
       "      <td>0.0</td>\n",
       "      <td>0.0</td>\n",
       "      <td>0.0</td>\n",
       "      <td>0.0</td>\n",
       "      <td>0.0</td>\n",
       "      <td>0.0</td>\n",
       "      <td>0.0</td>\n",
       "      <td>0.0</td>\n",
       "      <td>0.0</td>\n",
       "      <td>0.0</td>\n",
       "    </tr>\n",
       "  </tbody>\n",
       "</table>\n",
       "<p>5 rows × 374356 columns</p>\n",
       "</div>"
      ],
      "text/plain": [
       "    hadm_id    0   00  000  0000  00000100  00000700  00001700  0000313  \\\n",
       "0  145834.0  0.0  0.0  0.0   0.0       0.0       0.0       0.0      0.0   \n",
       "1  112213.0  0.0  0.0  0.0   0.0       0.0       0.0       0.0      0.0   \n",
       "2  194023.0  0.0  0.0  0.0   0.0       0.0       0.0       0.0      0.0   \n",
       "3  109451.0  0.0  0.0  0.0   0.0       0.0       0.0       0.0      0.0   \n",
       "4  111970.0  0.0  0.0  0.0   0.0       0.0       0.0       0.0      0.0   \n",
       "\n",
       "   00004  ...  zysin  zysyn  zythro  zythromax  zyvo  zyvox  \\\n",
       "0    0.0  ...    0.0    0.0     0.0        0.0   0.0    0.0   \n",
       "1    0.0  ...    0.0    0.0     0.0        0.0   0.0    0.0   \n",
       "2    0.0  ...    0.0    0.0     0.0        0.0   0.0    0.0   \n",
       "3    0.0  ...    0.0    0.0     0.0        0.0   0.0    0.0   \n",
       "4    0.0  ...    0.0    0.0     0.0        0.0   0.0    0.0   \n",
       "\n",
       "   zyvoxzosynsteroids   zz  zzach  zzz8  \n",
       "0                 0.0  0.0    0.0   0.0  \n",
       "1                 0.0  0.0    0.0   0.0  \n",
       "2                 0.0  0.0    0.0   0.0  \n",
       "3                 0.0  0.0    0.0   0.0  \n",
       "4                 0.0  0.0    0.0   0.0  \n",
       "\n",
       "[5 rows x 374356 columns]"
      ]
     },
     "execution_count": 38,
     "metadata": {},
     "output_type": "execute_result"
    }
   ],
   "source": [
    "train_transformed = vectorizer.transform(adult_notes.train.data.head().chartext)\n",
    "#notes_train.data = notes_train.data.join(pd.DataFrame(transformed.toarray(), columns=vectorizer.get_feature_names()))\n",
    "train_transformed.toarray().shape\n",
    "sa = sp.sparse.hstack((adult_notes.train.data.head().hadm_id[:,None],train_transformed))\n",
    "sdf = pd.SparseDataFrame(sa, columns=([\"hadm_id\"]+vectorizer.get_feature_names()), default_fill_value=0)\n",
    "sdf\n",
    "#train.data.head()\n",
    "#notes_train_transformed.A\n",
    "#notes_test_transformed = vectorizer.transform(notes_test.data.chartext)\n",
    "#notes_test.data = notes_test.data.join(pd.DataFrame(transformed.toarray(), columns=vectorizer.get_feature_names()))\n",
    "\n",
    "# then transform and join notes_test\n",
    "# then remove subject_id, hadm_id, icustay_id, chartext, and train logisticClassifier\n",
    "# then test with notes_test (having removed similar) and get top 5 words/lowest 5 words, \n",
    "# ROC/AUC, plot, etc"
   ]
  },
  {
   "cell_type": "code",
   "execution_count": 164,
   "metadata": {},
   "outputs": [
    {
     "data": {
      "text/plain": [
       "<7923x375795 sparse matrix of type '<class 'numpy.float64'>'\n",
       "\twith 5034726 stored elements in Compressed Sparse Row format>"
      ]
     },
     "execution_count": 164,
     "metadata": {},
     "output_type": "execute_result"
    }
   ],
   "source": [
    "#notes_test_transformed = vectorizer.transform(notes_test.data.chartext)\n",
    "#notes_test_transformed"
   ]
  }
 ],
 "metadata": {
  "kernelspec": {
   "display_name": "Python 3",
   "language": "python",
   "name": "python3"
  },
  "language_info": {
   "codemirror_mode": {
    "name": "ipython",
    "version": 3
   },
   "file_extension": ".py",
   "mimetype": "text/x-python",
   "name": "python",
   "nbconvert_exporter": "python",
   "pygments_lexer": "ipython3",
   "version": "3.6.7"
  }
 },
 "nbformat": 4,
 "nbformat_minor": 2
}
