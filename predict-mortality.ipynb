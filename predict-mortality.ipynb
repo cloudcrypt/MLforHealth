{
 "cells": [
  {
   "cell_type": "markdown",
   "metadata": {},
   "source": [
    "### Part 2: Predicting mortality in ICUs\n",
    "#### Part a:"
   ]
  },
  {
   "cell_type": "code",
   "execution_count": 6,
   "metadata": {},
   "outputs": [],
   "source": [
    "import numpy as np\n",
    "import pandas as pd\n",
    "import matplotlib.pyplot as plt\n",
    "from sklearn.linear_model import LogisticRegression\n",
    "from sklearn.feature_extraction.text import CountVectorizer, TfidfVectorizer\n",
    "from sklearn.preprocessing import MinMaxScaler\n",
    "from sklearn import metrics\n",
    "from sklearn.metrics import roc_curve\n",
    "from nltk.tokenize import word_tokenize\n",
    "from nltk.corpus import stopwords\n",
    "import string, re"
   ]
  },
  {
   "cell_type": "code",
   "execution_count": 64,
   "metadata": {},
   "outputs": [],
   "source": [
    "class Data:\n",
    "    def __init__(self, data, target):\n",
    "        self.data = data\n",
    "        self.target = target\n",
    "    def getCleanData():\n",
    "        pass\n",
    "    def getCleanTarget():\n",
    "        pass\n",
    "    def getClean(df: pd.DataFrame) -> pd.DataFrame:\n",
    "        pass \n",
    "    \n",
    "class Dataset:\n",
    "    def __init__(self, test: Data, train: Data):\n",
    "        self.test = test\n",
    "        self.train = train"
   ]
  },
  {
   "cell_type": "code",
   "execution_count": 46,
   "metadata": {},
   "outputs": [
    {
     "data": {
      "text/html": [
       "<div>\n",
       "<style scoped>\n",
       "    .dataframe tbody tr th:only-of-type {\n",
       "        vertical-align: middle;\n",
       "    }\n",
       "\n",
       "    .dataframe tbody tr th {\n",
       "        vertical-align: top;\n",
       "    }\n",
       "\n",
       "    .dataframe thead th {\n",
       "        text-align: right;\n",
       "    }\n",
       "</style>\n",
       "<table border=\"1\" class=\"dataframe\">\n",
       "  <thead>\n",
       "    <tr style=\"text-align: right;\">\n",
       "      <th></th>\n",
       "      <th>A</th>\n",
       "      <th>B</th>\n",
       "      <th>C</th>\n",
       "      <th>D</th>\n",
       "      <th>E</th>\n",
       "    </tr>\n",
       "  </thead>\n",
       "  <tbody>\n",
       "    <tr>\n",
       "      <th>0</th>\n",
       "      <td>0.0</td>\n",
       "      <td>0.0</td>\n",
       "      <td>1.0</td>\n",
       "      <td>0.0</td>\n",
       "      <td>0.0</td>\n",
       "    </tr>\n",
       "    <tr>\n",
       "      <th>1</th>\n",
       "      <td>1.0</td>\n",
       "      <td>0.5</td>\n",
       "      <td>0.0</td>\n",
       "      <td>1.0</td>\n",
       "      <td>1.0</td>\n",
       "    </tr>\n",
       "    <tr>\n",
       "      <th>2</th>\n",
       "      <td>1.0</td>\n",
       "      <td>1.0</td>\n",
       "      <td>0.0</td>\n",
       "      <td>1.0</td>\n",
       "      <td>1.0</td>\n",
       "    </tr>\n",
       "  </tbody>\n",
       "</table>\n",
       "</div>"
      ],
      "text/plain": [
       "     A    B    C    D    E\n",
       "0  0.0  0.0  1.0  0.0  0.0\n",
       "1  1.0  0.5  0.0  1.0  1.0\n",
       "2  1.0  1.0  0.0  1.0  1.0"
      ]
     },
     "execution_count": 46,
     "metadata": {},
     "output_type": "execute_result"
    }
   ],
   "source": [
    "min_max_scaler = MinMaxScaler()\n",
    "tdf = pd.DataFrame([[1,2,1,0,1],[5,4,0,1,2],[5,6,0,1,2]], columns=[\"A\",\"B\",\"C\",\"D\",\"E\"])\n",
    "#min_max_scaler.fit_transform(tdf.iloc[:,-2:-1].values.reshape(2,1))\n",
    "tdf.iloc[:,0:] = min_max_scaler.fit_transform(tdf.iloc[:,0:].values.astype(float))\n",
    "tdf\n",
    "#tdf.iloc[:,-1].values.reshape(2,1)"
   ]
  },
  {
   "cell_type": "code",
   "execution_count": 56,
   "metadata": {
    "scrolled": true
   },
   "outputs": [
    {
     "data": {
      "text/plain": [
       "(18983, 60)"
      ]
     },
     "metadata": {},
     "output_type": "display_data"
    },
    {
     "data": {
      "text/plain": [
       "(8365, 60)"
      ]
     },
     "metadata": {},
     "output_type": "display_data"
    },
    {
     "data": {
      "text/html": [
       "<div>\n",
       "<style scoped>\n",
       "    .dataframe tbody tr th:only-of-type {\n",
       "        vertical-align: middle;\n",
       "    }\n",
       "\n",
       "    .dataframe tbody tr th {\n",
       "        vertical-align: top;\n",
       "    }\n",
       "\n",
       "    .dataframe thead th {\n",
       "        text-align: right;\n",
       "    }\n",
       "</style>\n",
       "<table border=\"1\" class=\"dataframe\">\n",
       "  <thead>\n",
       "    <tr style=\"text-align: right;\">\n",
       "      <th></th>\n",
       "      <th>subject_id</th>\n",
       "      <th>hadm_id</th>\n",
       "      <th>icustay_id</th>\n",
       "      <th>age</th>\n",
       "      <th>first_hosp_stay</th>\n",
       "      <th>first_icu_stay</th>\n",
       "      <th>adult_icu</th>\n",
       "      <th>eth_asian</th>\n",
       "      <th>eth_black</th>\n",
       "      <th>eth_hispanic</th>\n",
       "      <th>...</th>\n",
       "      <th>magnesium</th>\n",
       "      <th>phosphate</th>\n",
       "      <th>platelet</th>\n",
       "      <th>potassium</th>\n",
       "      <th>ptt</th>\n",
       "      <th>inr</th>\n",
       "      <th>pt</th>\n",
       "      <th>sodium</th>\n",
       "      <th>bun</th>\n",
       "      <th>wbc</th>\n",
       "    </tr>\n",
       "  </thead>\n",
       "  <tbody>\n",
       "    <tr>\n",
       "      <th>0</th>\n",
       "      <td>6</td>\n",
       "      <td>107064</td>\n",
       "      <td>228232</td>\n",
       "      <td>0.671233</td>\n",
       "      <td>1.0</td>\n",
       "      <td>1.0</td>\n",
       "      <td>0.0</td>\n",
       "      <td>0.0</td>\n",
       "      <td>0.0</td>\n",
       "      <td>0.0</td>\n",
       "      <td>...</td>\n",
       "      <td>0.059233</td>\n",
       "      <td>0.482353</td>\n",
       "      <td>0.135549</td>\n",
       "      <td>0.333333</td>\n",
       "      <td>0.919942</td>\n",
       "      <td>0.022843</td>\n",
       "      <td>0.046479</td>\n",
       "      <td>0.551020</td>\n",
       "      <td>0.225092</td>\n",
       "      <td>0.017497</td>\n",
       "    </tr>\n",
       "    <tr>\n",
       "      <th>1</th>\n",
       "      <td>9</td>\n",
       "      <td>150750</td>\n",
       "      <td>220597</td>\n",
       "      <td>0.342466</td>\n",
       "      <td>1.0</td>\n",
       "      <td>1.0</td>\n",
       "      <td>0.0</td>\n",
       "      <td>0.0</td>\n",
       "      <td>0.0</td>\n",
       "      <td>0.0</td>\n",
       "      <td>...</td>\n",
       "      <td>0.052265</td>\n",
       "      <td>0.152941</td>\n",
       "      <td>0.110625</td>\n",
       "      <td>0.126984</td>\n",
       "      <td>0.066230</td>\n",
       "      <td>0.015228</td>\n",
       "      <td>0.033099</td>\n",
       "      <td>0.571429</td>\n",
       "      <td>0.055351</td>\n",
       "      <td>0.012331</td>\n",
       "    </tr>\n",
       "    <tr>\n",
       "      <th>2</th>\n",
       "      <td>13</td>\n",
       "      <td>143045</td>\n",
       "      <td>263738</td>\n",
       "      <td>0.315068</td>\n",
       "      <td>1.0</td>\n",
       "      <td>1.0</td>\n",
       "      <td>0.0</td>\n",
       "      <td>0.0</td>\n",
       "      <td>0.0</td>\n",
       "      <td>0.0</td>\n",
       "      <td>...</td>\n",
       "      <td>0.045296</td>\n",
       "      <td>0.211765</td>\n",
       "      <td>0.092261</td>\n",
       "      <td>0.182540</td>\n",
       "      <td>0.229258</td>\n",
       "      <td>0.017766</td>\n",
       "      <td>0.040141</td>\n",
       "      <td>0.561224</td>\n",
       "      <td>0.044280</td>\n",
       "      <td>0.027495</td>\n",
       "    </tr>\n",
       "    <tr>\n",
       "      <th>3</th>\n",
       "      <td>41</td>\n",
       "      <td>101757</td>\n",
       "      <td>237024</td>\n",
       "      <td>0.547945</td>\n",
       "      <td>1.0</td>\n",
       "      <td>0.0</td>\n",
       "      <td>0.0</td>\n",
       "      <td>0.0</td>\n",
       "      <td>0.0</td>\n",
       "      <td>0.0</td>\n",
       "      <td>...</td>\n",
       "      <td>0.055749</td>\n",
       "      <td>0.194118</td>\n",
       "      <td>0.077394</td>\n",
       "      <td>0.238095</td>\n",
       "      <td>0.182481</td>\n",
       "      <td>0.026596</td>\n",
       "      <td>0.057131</td>\n",
       "      <td>0.500000</td>\n",
       "      <td>0.047970</td>\n",
       "      <td>0.018497</td>\n",
       "    </tr>\n",
       "    <tr>\n",
       "      <th>4</th>\n",
       "      <td>59</td>\n",
       "      <td>104130</td>\n",
       "      <td>224440</td>\n",
       "      <td>0.972603</td>\n",
       "      <td>1.0</td>\n",
       "      <td>1.0</td>\n",
       "      <td>0.0</td>\n",
       "      <td>0.0</td>\n",
       "      <td>0.0</td>\n",
       "      <td>0.0</td>\n",
       "      <td>...</td>\n",
       "      <td>0.038328</td>\n",
       "      <td>0.400000</td>\n",
       "      <td>0.069086</td>\n",
       "      <td>0.206349</td>\n",
       "      <td>0.405386</td>\n",
       "      <td>0.022843</td>\n",
       "      <td>0.052113</td>\n",
       "      <td>0.561224</td>\n",
       "      <td>0.217712</td>\n",
       "      <td>0.007999</td>\n",
       "    </tr>\n",
       "  </tbody>\n",
       "</table>\n",
       "<p>5 rows × 60 columns</p>\n",
       "</div>"
      ],
      "text/plain": [
       "   subject_id  hadm_id  icustay_id       age  first_hosp_stay  first_icu_stay  \\\n",
       "0           6   107064      228232  0.671233              1.0             1.0   \n",
       "1           9   150750      220597  0.342466              1.0             1.0   \n",
       "2          13   143045      263738  0.315068              1.0             1.0   \n",
       "3          41   101757      237024  0.547945              1.0             0.0   \n",
       "4          59   104130      224440  0.972603              1.0             1.0   \n",
       "\n",
       "   adult_icu  eth_asian  eth_black  eth_hispanic  ...  magnesium  phosphate  \\\n",
       "0        0.0        0.0        0.0           0.0  ...   0.059233   0.482353   \n",
       "1        0.0        0.0        0.0           0.0  ...   0.052265   0.152941   \n",
       "2        0.0        0.0        0.0           0.0  ...   0.045296   0.211765   \n",
       "3        0.0        0.0        0.0           0.0  ...   0.055749   0.194118   \n",
       "4        0.0        0.0        0.0           0.0  ...   0.038328   0.400000   \n",
       "\n",
       "   platelet  potassium       ptt       inr        pt    sodium       bun  \\\n",
       "0  0.135549   0.333333  0.919942  0.022843  0.046479  0.551020  0.225092   \n",
       "1  0.110625   0.126984  0.066230  0.015228  0.033099  0.571429  0.055351   \n",
       "2  0.092261   0.182540  0.229258  0.017766  0.040141  0.561224  0.044280   \n",
       "3  0.077394   0.238095  0.182481  0.026596  0.057131  0.500000  0.047970   \n",
       "4  0.069086   0.206349  0.405386  0.022843  0.052113  0.561224  0.217712   \n",
       "\n",
       "        wbc  \n",
       "0  0.017497  \n",
       "1  0.012331  \n",
       "2  0.027495  \n",
       "3  0.018497  \n",
       "4  0.007999  \n",
       "\n",
       "[5 rows x 60 columns]"
      ]
     },
     "metadata": {},
     "output_type": "display_data"
    },
    {
     "data": {
      "text/plain": [
       "Index(['age', 'first_hosp_stay', 'first_icu_stay', 'adult_icu', 'eth_asian',\n",
       "       'eth_black', 'eth_hispanic', 'eth_other', 'eth_white',\n",
       "       'admType_ELECTIVE', 'admType_EMERGENCY', 'admType_NEWBORN',\n",
       "       'admType_URGENT', 'heartrate_min', 'heartrate_max', 'heartrate_mean',\n",
       "       'sysbp_min', 'sysbp_max', 'sysbp_mean', 'diasbp_min', 'diasbp_max',\n",
       "       'diasbp_mean', 'meanbp_min', 'meanbp_max', 'meanbp_mean',\n",
       "       'resprate_min', 'resprate_max', 'resprate_mean', 'tempc_min',\n",
       "       'tempc_max', 'tempc_mean', 'spo2_min', 'spo2_max', 'spo2_mean',\n",
       "       'glucose_min', 'glucose_max', 'glucose_mean', 'aniongap', 'albumin',\n",
       "       'bicarbonate', 'bilirubin', 'creatinine', 'chloride', 'glucose',\n",
       "       'hematocrit', 'hemoglobin', 'lactate', 'magnesium', 'phosphate',\n",
       "       'platelet', 'potassium', 'ptt', 'inr', 'pt', 'sodium', 'bun', 'wbc'],\n",
       "      dtype='object')"
      ]
     },
     "metadata": {},
     "output_type": "display_data"
    }
   ],
   "source": [
    "dataset = pd.read_csv(\"~/csc2548_ml4h/adult_icu.gz\", compression='gzip')\n",
    "\n",
    "min_max_scaler = MinMaxScaler()\n",
    "dataset.iloc[:,3:] = min_max_scaler.fit_transform(dataset.iloc[:,3:].values.astype(float))\n",
    "\n",
    "trainset = dataset[dataset.train == 1]\n",
    "trainset.reset_index(drop=True, inplace=True)\n",
    "trainset.pop(\"train\")\n",
    "target = trainset.pop(\"mort_icu\")\n",
    "train = Data(trainset, target)\n",
    "\n",
    "testset = dataset[dataset.train == 0]\n",
    "testset.reset_index(drop=True, inplace=True)\n",
    "testset.pop(\"train\")\n",
    "target = testset.pop(\"mort_icu\")\n",
    "test = Data(testset, target)\n",
    "\n",
    "adult_icu = Dataset(train, test)\n",
    "\n",
    "display(adult_icu.train.data.shape)\n",
    "display(adult_icu.test.data.shape)\n",
    "display(adult_icu.test.data.head())\n",
    "display(adult_icu.test.data.drop([\"subject_id\", \"hadm_id\", \"icustay_id\"], axis=1).columns)"
   ]
  },
  {
   "cell_type": "code",
   "execution_count": 57,
   "metadata": {},
   "outputs": [
    {
     "data": {
      "text/plain": [
       "LogisticRegression(C=1.0, class_weight=None, dual=False, fit_intercept=True,\n",
       "          intercept_scaling=1, max_iter=2000, multi_class='warn',\n",
       "          n_jobs=None, penalty='l2', random_state=None, solver='liblinear',\n",
       "          tol=0.0001, verbose=0, warm_start=False)"
      ]
     },
     "execution_count": 57,
     "metadata": {},
     "output_type": "execute_result"
    }
   ],
   "source": [
    "logisticRegression = LogisticRegression(penalty='l2', solver='liblinear', max_iter=2000)\n",
    "logisticRegression.fit(train.data.drop([\"subject_id\", \"hadm_id\", \"icustay_id\"], axis=1), train.target)"
   ]
  },
  {
   "cell_type": "code",
   "execution_count": 58,
   "metadata": {},
   "outputs": [
    {
     "data": {
      "image/png": "[encoded data removed]",
      "text/plain": [
       "<Figure size 432x288 with 1 Axes>"
      ]
     },
     "metadata": {
      "needs_background": "light"
     },
     "output_type": "display_data"
    },
    {
     "data": {
      "text/plain": [
       "'AUC Score = 0.79'"
      ]
     },
     "metadata": {},
     "output_type": "display_data"
    }
   ],
   "source": [
    "prediction = logisticRegression.predict_proba(test.data.drop([\"subject_id\", \"hadm_id\", \"icustay_id\"], axis=1))\n",
    "fpr, tpr, thresholds = roc_curve(test.target.values, prediction[:, 1])\n",
    "auc = metrics.auc(fpr, tpr)\n",
    "\n",
    "plt.figure()\n",
    "plt.plot(fpr, tpr, label='ROC curve (area = %0.2f)' % auc)\n",
    "plt.plot([0, 1], [0, 1], 'k--')\n",
    "plt.xlim([0.0, 1.0])\n",
    "plt.ylim([0.0, 1.05])\n",
    "plt.xlabel('False Positive Rate')\n",
    "plt.ylabel('True Positive Rate')\n",
    "plt.title('Receiver Operating Characteristic Curve')\n",
    "plt.legend(loc=\"lower right\")\n",
    "plt.show()\n",
    "display(\"AUC Score = \" + str(round(auc, 2)))"
   ]
  },
  {
   "cell_type": "markdown",
   "metadata": {},
   "source": [
    "# Comment on model performance"
   ]
  },
  {
   "cell_type": "code",
   "execution_count": 60,
   "metadata": {},
   "outputs": [
    {
     "data": {
      "text/plain": [
       "'90.84%'"
      ]
     },
     "execution_count": 60,
     "metadata": {},
     "output_type": "execute_result"
    }
   ],
   "source": [
    "accuracy = logisticRegression.score(test.data.drop([\"subject_id\", \"hadm_id\", \"icustay_id\"], axis=1), test.target) * 100\n",
    "str(round(accuracy, 2)) + \"%\""
   ]
  },
  {
   "cell_type": "code",
   "execution_count": 62,
   "metadata": {},
   "outputs": [
    {
     "data": {
      "text/plain": [
       "'Top 5 risk factors of mortality:'"
      ]
     },
     "metadata": {},
     "output_type": "display_data"
    },
    {
     "data": {
      "text/plain": [
       "['bilirubin', 'lactate', 'tempc_max', 'meanbp_mean', 'bun']"
      ]
     },
     "metadata": {},
     "output_type": "display_data"
    },
    {
     "data": {
      "text/plain": [
       "'Lowest 5 risk factors of mortality:'"
      ]
     },
     "metadata": {},
     "output_type": "display_data"
    },
    {
     "data": {
      "text/plain": [
       "['albumin', 'sysbp_min', 'platelet', 'tempc_mean', 'tempc_min']"
      ]
     },
     "metadata": {},
     "output_type": "display_data"
    }
   ],
   "source": [
    "feature_coefs = pd.Series(logisticRegression.coef_[0], index=train.data.drop([\"subject_id\", \"hadm_id\", \"icustay_id\"], axis=1).columns)\n",
    "feature_coefs.sort_values(ascending=False, inplace=True)\n",
    "display(\"Top 5 risk factors of mortality:\")\n",
    "display(feature_coefs.head(5).index.tolist())\n",
    "display(\"Lowest 5 risk factors of mortality:\")\n",
    "display(feature_coefs.tail(5).index.tolist())"
   ]
  },
  {
   "cell_type": "markdown",
   "metadata": {},
   "source": [
    "# Explain what the above means"
   ]
  },
  {
   "cell_type": "markdown",
   "metadata": {},
   "source": [
    "#### Part b:"
   ]
  },
  {
   "cell_type": "code",
   "execution_count": 13,
   "metadata": {},
   "outputs": [
    {
     "data": {
      "text/plain": [
       "(17956, 4)"
      ]
     },
     "metadata": {},
     "output_type": "display_data"
    },
    {
     "data": {
      "text/plain": [
       "(7923, 4)"
      ]
     },
     "metadata": {},
     "output_type": "display_data"
    }
   ],
   "source": [
    "dataset = pd.read_csv(\"~/csc2548_ml4h/adult_notes.gz\", compression='gzip')\n",
    "dataset = dataset[~pd.isnull(dataset.chartext)]\n",
    "\n",
    "trainset = dataset[dataset.train == 1]\n",
    "trainset.reset_index(drop=True, inplace=True)\n",
    "trainset.pop(\"train\")\n",
    "target = trainset.pop(\"mort_icu\")\n",
    "notes_train = Dataset(trainset, target)\n",
    "\n",
    "testset = dataset[dataset.train == 0]\n",
    "testset.reset_index(drop=True, inplace=True)\n",
    "testset.pop(\"train\")\n",
    "target = testset.pop(\"mort_icu\")\n",
    "notes_test = Dataset(testset, target)\n",
    "display(notes_train.data.shape)\n",
    "display(notes_test.data.shape)"
   ]
  },
  {
   "cell_type": "code",
   "execution_count": 14,
   "metadata": {},
   "outputs": [
    {
     "data": {
      "text/plain": [
       "(5,)"
      ]
     },
     "execution_count": 14,
     "metadata": {},
     "output_type": "execute_result"
    }
   ],
   "source": [
    "def testfunc(x):\n",
    "    return x + 2\n",
    "testdf = pd.DataFrame([1,2,3,4,5], columns=[\"A\"])\n",
    "testdf.A = testfunc(testdf.A)\n",
    "testdf.A\n",
    "notes_train.data.chartext.head().values.shape"
   ]
  },
  {
   "cell_type": "code",
   "execution_count": 15,
   "metadata": {},
   "outputs": [
    {
     "data": {
      "text/plain": [
       "374355"
      ]
     },
     "metadata": {},
     "output_type": "display_data"
    }
   ],
   "source": [
    "stopwordList = stopwords.words(\"english\")\n",
    "\n",
    "def tokenize(s):\n",
    "    return [j for j in [re.sub(\"\\W+\", '', i) for i in word_tokenize(s.lower())] \n",
    "            if j not in stopwordList and j != '']\n",
    "\n",
    "vectorizer = TfidfVectorizer(tokenizer=tokenize)\n",
    "vectorizer.fit(notes_train.data.chartext)\n",
    "#testout = vectorizer.fit_transform(notes_train.data.head().chartext)\n",
    "display(len(vectorizer.get_feature_names()))\n",
    "#display(testout.toarray().shape)\n",
    "\n",
    "#notes_train.data = notes_train.data.join(pd.DataFrame(testout.toarray(), columns=vectorizer.get_feature_names()))\n",
    "\n",
    "#pd.DataFrame(testout.toarray(), columns=vectorizer.get_feature_names())\n",
    "#notes_test.data.reset_index(drop=True, inplace=True)#print(vectorizer.get_feature_names()[0])"
   ]
  },
  {
   "cell_type": "code",
   "execution_count": 1,
   "metadata": {},
   "outputs": [
    {
     "ename": "NameError",
     "evalue": "name 'vectorizer' is not defined",
     "output_type": "error",
     "traceback": [
      "\u001b[0;31m---------------------------------------------------------------------------\u001b[0m",
      "\u001b[0;31mNameError\u001b[0m                                 Traceback (most recent call last)",
      "\u001b[0;32m<ipython-input-1-94b2630ba532>\u001b[0m in \u001b[0;36m<module>\u001b[0;34m\u001b[0m\n\u001b[0;32m----> 1\u001b[0;31m \u001b[0mvectorizer\u001b[0m\u001b[0;34m.\u001b[0m\u001b[0mget_feature_names\u001b[0m\u001b[0;34m(\u001b[0m\u001b[0;34m)\u001b[0m\u001b[0;34m\u001b[0m\u001b[0;34m\u001b[0m\u001b[0m\n\u001b[0m",
      "\u001b[0;31mNameError\u001b[0m: name 'vectorizer' is not defined"
     ]
    }
   ],
   "source": [
    "vectorizer.get_feature_names()"
   ]
  },
  {
   "cell_type": "code",
   "execution_count": 35,
   "metadata": {},
   "outputs": [
    {
     "data": {
      "text/html": [
       "<div>\n",
       "<style scoped>\n",
       "    .dataframe tbody tr th:only-of-type {\n",
       "        vertical-align: middle;\n",
       "    }\n",
       "\n",
       "    .dataframe tbody tr th {\n",
       "        vertical-align: top;\n",
       "    }\n",
       "\n",
       "    .dataframe thead th {\n",
       "        text-align: right;\n",
       "    }\n",
       "</style>\n",
       "<table border=\"1\" class=\"dataframe\">\n",
       "  <thead>\n",
       "    <tr style=\"text-align: right;\">\n",
       "      <th></th>\n",
       "      <th>subject_id</th>\n",
       "      <th>hadm_id</th>\n",
       "      <th>icustay_id</th>\n",
       "      <th>age</th>\n",
       "      <th>first_hosp_stay</th>\n",
       "      <th>first_icu_stay</th>\n",
       "      <th>adult_icu</th>\n",
       "      <th>eth_asian</th>\n",
       "      <th>eth_black</th>\n",
       "      <th>eth_hispanic</th>\n",
       "      <th>...</th>\n",
       "      <th>magnesium</th>\n",
       "      <th>phosphate</th>\n",
       "      <th>platelet</th>\n",
       "      <th>potassium</th>\n",
       "      <th>ptt</th>\n",
       "      <th>inr</th>\n",
       "      <th>pt</th>\n",
       "      <th>sodium</th>\n",
       "      <th>bun</th>\n",
       "      <th>wbc</th>\n",
       "    </tr>\n",
       "  </thead>\n",
       "  <tbody>\n",
       "    <tr>\n",
       "      <th>0</th>\n",
       "      <td>3</td>\n",
       "      <td>145834</td>\n",
       "      <td>211552</td>\n",
       "      <td>76.0</td>\n",
       "      <td>1</td>\n",
       "      <td>1</td>\n",
       "      <td>1</td>\n",
       "      <td>0</td>\n",
       "      <td>0</td>\n",
       "      <td>0</td>\n",
       "      <td>...</td>\n",
       "      <td>2.4</td>\n",
       "      <td>4.8</td>\n",
       "      <td>282.0</td>\n",
       "      <td>5.4</td>\n",
       "      <td>30.7</td>\n",
       "      <td>1.3</td>\n",
       "      <td>13.5</td>\n",
       "      <td>136.0</td>\n",
       "      <td>53.0</td>\n",
       "      <td>12.7</td>\n",
       "    </tr>\n",
       "    <tr>\n",
       "      <th>1</th>\n",
       "      <td>12</td>\n",
       "      <td>112213</td>\n",
       "      <td>232669</td>\n",
       "      <td>72.0</td>\n",
       "      <td>1</td>\n",
       "      <td>1</td>\n",
       "      <td>1</td>\n",
       "      <td>0</td>\n",
       "      <td>0</td>\n",
       "      <td>0</td>\n",
       "      <td>...</td>\n",
       "      <td>1.7</td>\n",
       "      <td>6.6</td>\n",
       "      <td>156.0</td>\n",
       "      <td>4.9</td>\n",
       "      <td>55.2</td>\n",
       "      <td>1.7</td>\n",
       "      <td>15.9</td>\n",
       "      <td>138.0</td>\n",
       "      <td>28.0</td>\n",
       "      <td>8.4</td>\n",
       "    </tr>\n",
       "    <tr>\n",
       "      <th>2</th>\n",
       "      <td>17</td>\n",
       "      <td>194023</td>\n",
       "      <td>277042</td>\n",
       "      <td>47.0</td>\n",
       "      <td>1</td>\n",
       "      <td>1</td>\n",
       "      <td>1</td>\n",
       "      <td>0</td>\n",
       "      <td>0</td>\n",
       "      <td>0</td>\n",
       "      <td>...</td>\n",
       "      <td>1.4</td>\n",
       "      <td>2.0</td>\n",
       "      <td>138.0</td>\n",
       "      <td>3.9</td>\n",
       "      <td>31.8</td>\n",
       "      <td>1.5</td>\n",
       "      <td>14.9</td>\n",
       "      <td>139.0</td>\n",
       "      <td>11.0</td>\n",
       "      <td>10.5</td>\n",
       "    </tr>\n",
       "    <tr>\n",
       "      <th>3</th>\n",
       "      <td>21</td>\n",
       "      <td>109451</td>\n",
       "      <td>217847</td>\n",
       "      <td>87.0</td>\n",
       "      <td>1</td>\n",
       "      <td>1</td>\n",
       "      <td>1</td>\n",
       "      <td>0</td>\n",
       "      <td>0</td>\n",
       "      <td>0</td>\n",
       "      <td>...</td>\n",
       "      <td>2.0</td>\n",
       "      <td>5.9</td>\n",
       "      <td>261.0</td>\n",
       "      <td>5.0</td>\n",
       "      <td>150.0</td>\n",
       "      <td>4.0</td>\n",
       "      <td>23.5</td>\n",
       "      <td>140.0</td>\n",
       "      <td>94.0</td>\n",
       "      <td>23.5</td>\n",
       "    </tr>\n",
       "    <tr>\n",
       "      <th>4</th>\n",
       "      <td>21</td>\n",
       "      <td>111970</td>\n",
       "      <td>216859</td>\n",
       "      <td>87.0</td>\n",
       "      <td>0</td>\n",
       "      <td>1</td>\n",
       "      <td>1</td>\n",
       "      <td>0</td>\n",
       "      <td>0</td>\n",
       "      <td>0</td>\n",
       "      <td>...</td>\n",
       "      <td>1.5</td>\n",
       "      <td>4.4</td>\n",
       "      <td>275.0</td>\n",
       "      <td>3.8</td>\n",
       "      <td>31.7</td>\n",
       "      <td>1.7</td>\n",
       "      <td>18.1</td>\n",
       "      <td>137.0</td>\n",
       "      <td>49.0</td>\n",
       "      <td>30.5</td>\n",
       "    </tr>\n",
       "  </tbody>\n",
       "</table>\n",
       "<p>5 rows × 60 columns</p>\n",
       "</div>"
      ],
      "text/plain": [
       "   subject_id  hadm_id  icustay_id   age  first_hosp_stay  first_icu_stay  \\\n",
       "0           3   145834      211552  76.0                1               1   \n",
       "1          12   112213      232669  72.0                1               1   \n",
       "2          17   194023      277042  47.0                1               1   \n",
       "3          21   109451      217847  87.0                1               1   \n",
       "4          21   111970      216859  87.0                0               1   \n",
       "\n",
       "   adult_icu  eth_asian  eth_black  eth_hispanic  ...  magnesium  phosphate  \\\n",
       "0          1          0          0             0  ...        2.4        4.8   \n",
       "1          1          0          0             0  ...        1.7        6.6   \n",
       "2          1          0          0             0  ...        1.4        2.0   \n",
       "3          1          0          0             0  ...        2.0        5.9   \n",
       "4          1          0          0             0  ...        1.5        4.4   \n",
       "\n",
       "   platelet  potassium    ptt  inr    pt  sodium   bun   wbc  \n",
       "0     282.0        5.4   30.7  1.3  13.5   136.0  53.0  12.7  \n",
       "1     156.0        4.9   55.2  1.7  15.9   138.0  28.0   8.4  \n",
       "2     138.0        3.9   31.8  1.5  14.9   139.0  11.0  10.5  \n",
       "3     261.0        5.0  150.0  4.0  23.5   140.0  94.0  23.5  \n",
       "4     275.0        3.8   31.7  1.7  18.1   137.0  49.0  30.5  \n",
       "\n",
       "[5 rows x 60 columns]"
      ]
     },
     "execution_count": 35,
     "metadata": {},
     "output_type": "execute_result"
    }
   ],
   "source": [
    "notes_train_transformed = vectorizer.transform(notes_train.data.head().chartext)\n",
    "#notes_train.data = notes_train.data.join(pd.DataFrame(transformed.toarray(), columns=vectorizer.get_feature_names()))\n",
    "import scipy as sp\n",
    "sp.sparse.hstack((notes_train.data.head().hadm_id[:,None],notes_train_transformed)).A\n",
    "train.data.head()\n",
    "#notes_train_transformed.A\n",
    "#notes_test_transformed = vectorizer.transform(notes_test.data.chartext)\n",
    "#notes_test.data = notes_test.data.join(pd.DataFrame(transformed.toarray(), columns=vectorizer.get_feature_names()))\n",
    "\n",
    "# then transform and join notes_test\n",
    "# then remove subject_id, hadm_id, icustay_id, chartext, and train logisticClassifier\n",
    "# then test with notes_test (having removed similar) and get top 5 words/lowest 5 words, \n",
    "# ROC/AUC, plot, etc"
   ]
  },
  {
   "cell_type": "code",
   "execution_count": 164,
   "metadata": {},
   "outputs": [
    {
     "data": {
      "text/plain": [
       "<7923x375795 sparse matrix of type '<class 'numpy.float64'>'\n",
       "\twith 5034726 stored elements in Compressed Sparse Row format>"
      ]
     },
     "execution_count": 164,
     "metadata": {},
     "output_type": "execute_result"
    }
   ],
   "source": [
    "#notes_test_transformed = vectorizer.transform(notes_test.data.chartext)\n",
    "#notes_test_transformed"
   ]
  }
 ],
 "metadata": {
  "kernelspec": {
   "display_name": "Python 3",
   "language": "python",
   "name": "python3"
  },
  "language_info": {
   "codemirror_mode": {
    "name": "ipython",
    "version": 3
   },
   "file_extension": ".py",
   "mimetype": "text/x-python",
   "name": "python",
   "nbconvert_exporter": "python",
   "pygments_lexer": "ipython3",
   "version": "3.6.7"
  }
 },
 "nbformat": 4,
 "nbformat_minor": 2
}
