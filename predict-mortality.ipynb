{
 "cells": [
  {
   "cell_type": "markdown",
   "metadata": {},
   "source": [
    "### Part 2: Predicting mortality in ICUs\n",
    "#### Part a:"
   ]
  },
  {
   "cell_type": "code",
   "execution_count": 117,
   "metadata": {},
   "outputs": [],
   "source": [
    "import numpy as np\n",
    "import pandas as pd\n",
    "from sklearn.linear_model import LogisticRegression"
   ]
  },
  {
   "cell_type": "code",
   "execution_count": 118,
   "metadata": {},
   "outputs": [],
   "source": [
    "class Dataset:\n",
    "    def __init__(self, data, target):\n",
    "        self.data = data\n",
    "        self.target = target"
   ]
  },
  {
   "cell_type": "code",
   "execution_count": 119,
   "metadata": {},
   "outputs": [],
   "source": [
    "dataset = pd.read_csv(\"~/csc2548_ml4h/adult_icu.gz\", compression='gzip')\n",
    "\n",
    "trainset = dataset[dataset.train == 1]\n",
    "trainset.pop(\"train\")\n",
    "target = trainset.pop(\"mort_icu\")\n",
    "train = Dataset(trainset, target)\n",
    "\n",
    "testset = dataset[dataset.train == 0]\n",
    "testset.pop(\"train\")\n",
    "target = testset.pop(\"mort_icu\")\n",
    "test = Dataset(testset, target)"
   ]
  },
  {
   "cell_type": "code",
   "execution_count": 120,
   "metadata": {},
   "outputs": [
    {
     "data": {
      "text/plain": [
       "LogisticRegression(C=1.0, class_weight=None, dual=False, fit_intercept=True,\n",
       "          intercept_scaling=1, max_iter=2000, multi_class='warn',\n",
       "          n_jobs=None, penalty='l2', random_state=None, solver='liblinear',\n",
       "          tol=0.0001, verbose=0, warm_start=False)"
      ]
     },
     "execution_count": 120,
     "metadata": {},
     "output_type": "execute_result"
    }
   ],
   "source": [
    "logisticRegression = LogisticRegression(penalty='l2', solver='liblinear', max_iter=2000)\n",
    "logisticRegression.fit(train.data, train.target)"
   ]
  },
  {
   "cell_type": "code",
   "execution_count": 122,
   "metadata": {},
   "outputs": [
    {
     "data": {
      "text/plain": [
       "'90.65%'"
      ]
     },
     "execution_count": 122,
     "metadata": {},
     "output_type": "execute_result"
    }
   ],
   "source": [
    "accuracy = logisticRegression.score(test.data, test.target) * 100\n",
    "str(round(accuracy, 2)) + \"%\""
   ]
  },
  {
   "cell_type": "code",
   "execution_count": 123,
   "metadata": {},
   "outputs": [
    {
     "data": {
      "text/plain": [
       "['bun', 'heartrate_max', 'glucose_mean', 'heartrate_mean', 'ptt']"
      ]
     },
     "execution_count": 123,
     "metadata": {},
     "output_type": "execute_result"
    }
   ],
   "source": [
    "feature_coefs = pd.Series(logisticRegression.coef_[0], index=train.data.columns)\n",
    "feature_coefs.sort_values(ascending=False, inplace=True)\n",
    "feature_coefs.head(5).index.tolist()"
   ]
  },
  {
   "cell_type": "code",
   "execution_count": 124,
   "metadata": {},
   "outputs": [
    {
     "data": {
      "text/plain": [
       "['diasbp_min', 'sysbp_mean', 'meanbp_min', 'spo2_min', 'sysbp_min']"
      ]
     },
     "execution_count": 124,
     "metadata": {},
     "output_type": "execute_result"
    }
   ],
   "source": [
    "feature_coefs.tail(5).index.tolist()"
   ]
  },
  {
   "cell_type": "code",
   "execution_count": 129,
   "metadata": {
    "collapsed": true
   },
   "outputs": [
    {
     "data": {
      "text/plain": [
       "bun                  1.100053e-02\n",
       "heartrate_max        9.881349e-03\n",
       "glucose_mean         7.534194e-03\n",
       "heartrate_mean       4.734961e-03\n",
       "ptt                  4.644338e-03\n",
       "age                  3.971163e-03\n",
       "resprate_max         3.259757e-03\n",
       "wbc                  3.113088e-03\n",
       "pt                   2.645801e-03\n",
       "meanbp_max           2.565797e-03\n",
       "resprate_mean        2.505620e-03\n",
       "aniongap             2.342920e-03\n",
       "bilirubin            1.994233e-03\n",
       "lactate              1.343630e-03\n",
       "resprate_min         9.151804e-04\n",
       "heartrate_min        4.959616e-04\n",
       "phosphate            4.333063e-04\n",
       "inr                  3.908736e-04\n",
       "creatinine           2.073790e-04\n",
       "admType_EMERGENCY    1.739742e-04\n",
       "eth_other            1.348437e-04\n",
       "potassium            3.580814e-05\n",
       "eth_asian            6.110721e-06\n",
       "admType_URGENT       3.294835e-06\n",
       "admType_NEWBORN      0.000000e+00\n",
       "icustay_id          -9.419138e-07\n",
       "first_hosp_stay     -1.137416e-06\n",
       "subject_id          -1.403624e-06\n",
       "hadm_id             -1.709669e-06\n",
       "magnesium           -5.038318e-06\n",
       "adult_icu           -1.806139e-05\n",
       "eth_hispanic        -2.508403e-05\n",
       "eth_black           -4.814219e-05\n",
       "first_icu_stay      -8.037870e-05\n",
       "eth_white           -8.578956e-05\n",
       "admType_ELECTIVE    -1.953304e-04\n",
       "albumin             -3.324995e-04\n",
       "tempc_max           -5.730555e-04\n",
       "glucose             -6.820130e-04\n",
       "hemoglobin          -7.173635e-04\n",
       "glucose_max         -7.549735e-04\n",
       "tempc_mean          -8.275995e-04\n",
       "glucose_min         -9.053174e-04\n",
       "platelet            -1.045867e-03\n",
       "diasbp_max          -1.118922e-03\n",
       "tempc_min           -1.147211e-03\n",
       "sysbp_max           -1.376930e-03\n",
       "hematocrit          -1.672893e-03\n",
       "bicarbonate         -1.847523e-03\n",
       "spo2_max            -1.916283e-03\n",
       "sodium              -2.550147e-03\n",
       "spo2_mean           -2.796475e-03\n",
       "chloride            -2.869673e-03\n",
       "diasbp_mean         -2.893899e-03\n",
       "meanbp_mean         -3.111412e-03\n",
       "diasbp_min          -4.648916e-03\n",
       "sysbp_mean          -6.669218e-03\n",
       "meanbp_min          -7.841693e-03\n",
       "spo2_min            -8.631052e-03\n",
       "sysbp_min           -1.131615e-02\n",
       "dtype: float64"
      ]
     },
     "execution_count": 129,
     "metadata": {},
     "output_type": "execute_result"
    }
   ],
   "source": [
    "feature_coefs"
   ]
  }
 ],
 "metadata": {
  "kernelspec": {
   "display_name": "Python 3",
   "language": "python",
   "name": "python3"
  },
  "language_info": {
   "codemirror_mode": {
    "name": "ipython",
    "version": 3
   },
   "file_extension": ".py",
   "mimetype": "text/x-python",
   "name": "python",
   "nbconvert_exporter": "python",
   "pygments_lexer": "ipython3",
   "version": "3.6.7"
  }
 },
 "nbformat": 4,
 "nbformat_minor": 2
}
