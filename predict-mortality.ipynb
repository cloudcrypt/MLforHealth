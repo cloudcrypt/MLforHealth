{
 "cells": [
  {
   "cell_type": "markdown",
   "metadata": {},
   "source": [
    "## Part 2: Predicting mortality in ICUs\n",
    "### Daniel Dastoor\n",
    "### Part a:"
   ]
  },
  {
   "cell_type": "code",
   "execution_count": 1,
   "metadata": {},
   "outputs": [],
   "source": [
    "import numpy as np\n",
    "import pandas as pd\n",
    "import scipy as sp\n",
    "import matplotlib.pyplot as plt\n",
    "from sklearn.linear_model import LogisticRegression\n",
    "from sklearn.feature_extraction.text import CountVectorizer, TfidfVectorizer\n",
    "from sklearn.preprocessing import MinMaxScaler\n",
    "from sklearn import metrics\n",
    "from sklearn.metrics import roc_curve\n",
    "from nltk.tokenize import word_tokenize\n",
    "from nltk.corpus import stopwords\n",
    "import string, re, multiprocessing\n",
    "from multiprocessing import Pool"
   ]
  },
  {
   "cell_type": "code",
   "execution_count": 2,
   "metadata": {},
   "outputs": [],
   "source": [
    "class Data:\n",
    "    def __init__(self, data, target):\n",
    "        self.data = data\n",
    "        self.target = target\n",
    "    \n",
    "class Dataset:\n",
    "    def __init__(self, train: Data, test: Data):\n",
    "        self.train = train\n",
    "        self.test = test"
   ]
  },
  {
   "cell_type": "code",
   "execution_count": 3,
   "metadata": {
    "scrolled": true
   },
   "outputs": [],
   "source": [
    "dataset = pd.read_csv(\"~/csc2548_ml4h/adult_icu.gz\", compression='gzip')\n",
    "\n",
    "min_max_scaler = MinMaxScaler()\n",
    "dataset.iloc[:,3:] = min_max_scaler.fit_transform(dataset.iloc[:,3:].values.astype(float))\n",
    "\n",
    "trainset = dataset[dataset.train == 1].copy()\n",
    "trainset.reset_index(drop=True, inplace=True)\n",
    "trainset.drop([\"train\", \"subject_id\", \"icustay_id\"], axis=1, inplace=True)\n",
    "target = trainset.pop(\"mort_icu\")\n",
    "train = Data(trainset, target)\n",
    "\n",
    "testset = dataset[dataset.train == 0].copy()\n",
    "testset.reset_index(drop=True, inplace=True)\n",
    "testset.drop([\"train\", \"subject_id\", \"icustay_id\"], axis=1, inplace=True)\n",
    "target = testset.pop(\"mort_icu\")\n",
    "test = Data(testset, target)\n",
    "\n",
    "adult_icu = Dataset(train, test)"
   ]
  },
  {
   "cell_type": "code",
   "execution_count": 5,
   "metadata": {},
   "outputs": [
    {
     "data": {
      "text/plain": [
       "LogisticRegression(C=1.0, class_weight=None, dual=False, fit_intercept=True,\n",
       "          intercept_scaling=1, max_iter=2000, multi_class='warn',\n",
       "          n_jobs=None, penalty='l2', random_state=None, solver='liblinear',\n",
       "          tol=0.0001, verbose=0, warm_start=False)"
      ]
     },
     "execution_count": 5,
     "metadata": {},
     "output_type": "execute_result"
    }
   ],
   "source": [
    "logisticRegression = LogisticRegression(penalty='l2', solver='liblinear', max_iter=2000)\n",
    "logisticRegression.fit(adult_icu.train.data.drop([\"hadm_id\"], axis=1), adult_icu.train.target)"
   ]
  },
  {
   "cell_type": "code",
   "execution_count": 6,
   "metadata": {},
   "outputs": [
    {
     "data": {
      "image/png": "[encoded data removed]",
      "text/plain": [
       "<Figure size 432x288 with 1 Axes>"
      ]
     },
     "metadata": {
      "needs_background": "light"
     },
     "output_type": "display_data"
    },
    {
     "data": {
      "text/plain": [
       "'AUC Score = 0.79'"
      ]
     },
     "metadata": {},
     "output_type": "display_data"
    }
   ],
   "source": [
    "prediction = logisticRegression.predict_proba(adult_icu.test.data.drop([\"hadm_id\"], axis=1))\n",
    "fpr, tpr, thresholds = roc_curve(adult_icu.test.target.values, prediction[:, 1])\n",
    "auc = metrics.auc(fpr, tpr)\n",
    "\n",
    "plt.figure()\n",
    "plt.plot(fpr, tpr, label='ROC curve (area = %0.2f)' % auc)\n",
    "plt.plot([0, 1], [0, 1], 'k--')\n",
    "plt.xlim([0.0, 1.0])\n",
    "plt.ylim([0.0, 1.05])\n",
    "plt.xlabel('False Positive Rate')\n",
    "plt.ylabel('True Positive Rate')\n",
    "plt.title('Receiver Operating Characteristic Curve')\n",
    "plt.legend(loc=\"lower right\")\n",
    "plt.show()\n",
    "display(\"AUC Score = \" + str(round(auc, 2)))"
   ]
  },
  {
   "cell_type": "code",
   "execution_count": 7,
   "metadata": {},
   "outputs": [
    {
     "data": {
      "text/plain": [
       "'Accuracy = 90.84%'"
      ]
     },
     "execution_count": 7,
     "metadata": {},
     "output_type": "execute_result"
    }
   ],
   "source": [
    "accuracy = logisticRegression.score(adult_icu.test.data.drop([\"hadm_id\"], axis=1), adult_icu.test.target) * 100\n",
    "\"Accuracy = \" + str(round(accuracy, 2)) + \"%\""
   ]
  },
  {
   "cell_type": "markdown",
   "metadata": {},
   "source": [
    "#### Comment on model performance:\n",
    "Initially, one could come to the quick conclusion that this model's performance is good, due to the \"accuracy\" of 90.84%. However, there is a large amount of class imbalance in the dataset, and as such, it is more usefull to look at the AUC score for the model. From the model's AUC score of 0.79, one can get a better sense of how the model is not performing extraordinarily well. However, with futher tuning and optimization, there is some potential in the usefulness of logistic regression on this type of normalized data."
   ]
  },
  {
   "cell_type": "code",
   "execution_count": 39,
   "metadata": {},
   "outputs": [
    {
     "data": {
      "text/plain": [
       "'Top 5 risk factors of mortality:'"
      ]
     },
     "metadata": {},
     "output_type": "display_data"
    },
    {
     "data": {
      "text/plain": [
       "['bilirubin', 'lactate', 'tempc_max', 'meanbp_mean', 'bun']"
      ]
     },
     "metadata": {},
     "output_type": "display_data"
    },
    {
     "data": {
      "text/plain": [
       "'Lowest 5 risk factors of mortality:'"
      ]
     },
     "metadata": {},
     "output_type": "display_data"
    },
    {
     "data": {
      "text/plain": [
       "['albumin', 'sysbp_min', 'platelet', 'tempc_mean', 'tempc_min']"
      ]
     },
     "metadata": {},
     "output_type": "display_data"
    }
   ],
   "source": [
    "feature_coefs = pd.Series(logisticRegression.coef_[0], index=adult_icu.train.data.drop([\"hadm_id\"], axis=1).columns)\n",
    "feature_coefs.sort_values(ascending=False, inplace=True)\n",
    "display(\"Top 5 risk factors of mortality:\")\n",
    "display(feature_coefs.head(5).index.tolist())\n",
    "display(\"Lowest 5 risk factors of mortality:\")\n",
    "display(feature_coefs.tail(5).index.tolist())"
   ]
  },
  {
   "cell_type": "markdown",
   "metadata": {},
   "source": [
    "#### Top 5 risk factors of mortality:\n",
    "\n",
    "bilirubin: Forms after red blood cells break down, travelling through the liver, gallbladder, and digestive tract before excretion. Levels of high bilirubin, hyperbilirubinemia, can be indicative of a host of issues, many of which are serious.\n",
    "\n",
    "lactate: Lactate or lactic acid levels are elevated in conditions of strenuous exercise, or life-threatening conditions including heart failure, sepsis, and shock. High levels of lactate can further indicate a lack of oxygen in the blood (hypoxia).\n",
    "\n",
    "tempc_max: Maximum temprature of patient. A high maximum temprature can indicate serious issues.\n",
    "\n",
    "meanbp_mean: Average heart rate of patient. A high average heart rate can indicate serious issues.\n",
    "\n",
    "bun: Blood urea nitrogen measures the amount of urea nitrogen found in blood. This is an indication of kidney health. A high bun can be indicative of kidney or heart failure.\n",
    "\n",
    "#### Lowest 5 risk factors of mortality:\n",
    "\n",
    "albumin: Albumin is an abundant protein. High levels of albumin are caused by dehydration.\n",
    "\n",
    "sysbp_min: Minimum systolic blood pressure. Mean and max bp are much more indicative of issues.\n",
    "\n",
    "platelet: Platelets are tiny fragments of cells essential for normal blood clotting. Extreme variations in amount of platelet are not very common.\n",
    "\n",
    "tempc_mean: Average temprature of patient. Max temprate of pation is much more indicative of issues.\n",
    "\n",
    "tempc_min: Minimum temprature of patient. Max temprate of pation is much more indicative of issues."
   ]
  },
  {
   "cell_type": "markdown",
   "metadata": {},
   "source": [
    "### Part b:"
   ]
  },
  {
   "cell_type": "code",
   "execution_count": 4,
   "metadata": {},
   "outputs": [],
   "source": [
    "dataset = pd.read_csv(\"~/csc2548_ml4h/adult_notes.gz\", compression='gzip')\n",
    "dataset = dataset[~pd.isnull(dataset.chartext)]\n",
    "\n",
    "trainset = dataset[dataset.train == 1].copy()\n",
    "trainset.reset_index(drop=True, inplace=True)\n",
    "trainset.drop([\"train\", \"subject_id\", \"icustay_id\"], axis=1, inplace=True)\n",
    "target = trainset.pop(\"mort_icu\")\n",
    "train = Data(trainset, target)\n",
    "\n",
    "testset = dataset[dataset.train == 0].copy()\n",
    "testset.reset_index(drop=True, inplace=True)\n",
    "testset.drop([\"train\", \"subject_id\", \"icustay_id\"], axis=1, inplace=True)\n",
    "target = testset.pop(\"mort_icu\")\n",
    "test = Data(testset, target)\n",
    "\n",
    "adult_notes = Dataset(train, test)"
   ]
  },
  {
   "cell_type": "code",
   "execution_count": 11,
   "metadata": {},
   "outputs": [
    {
     "data": {
      "text/plain": [
       "TfidfVectorizer(analyzer='word', binary=False, decode_error='strict',\n",
       "        dtype=<class 'numpy.float64'>, encoding='utf-8', input='content',\n",
       "        lowercase=True, max_df=1.0, max_features=None, min_df=1,\n",
       "        ngram_range=(1, 1), norm='l2', preprocessor=None, smooth_idf=True,\n",
       "        stop_words=None, strip_accents=None, sublinear_tf=False,\n",
       "        token_pattern='(?u)\\\\b\\\\w\\\\w+\\\\b',\n",
       "        tokenizer=<function tokenize at 0x7f5bcd4de6a8>, use_idf=True,\n",
       "        vocabulary=None)"
      ]
     },
     "execution_count": 11,
     "metadata": {},
     "output_type": "execute_result"
    }
   ],
   "source": [
    "stopwordList = stopwords.words(\"english\")\n",
    "\n",
    "def tokenize(s):\n",
    "    return [j for j in [re.sub(\"\\W+\", '', i) for i in word_tokenize(s.lower())] \n",
    "            if j not in stopwordList and j != '']\n",
    "\n",
    "vectorizer = TfidfVectorizer(tokenizer=tokenize)\n",
    "vectorizer.fit(adult_notes.train.data.chartext)"
   ]
  },
  {
   "cell_type": "code",
   "execution_count": 12,
   "metadata": {},
   "outputs": [],
   "source": [
    "num_cores = multiprocessing.cpu_count()\n",
    "num_partitions = num_cores - 1 if num_cores > 1 else 1\n",
    "\n",
    "# parallelize_dataframe adapted from \n",
    "# https://stackoverflow.com/questions/28396957/sklearn-tfidf-vectorizer-to-run-as-parallel-jobs\n",
    "def parallelize_dataframe(df, func):\n",
    "    a = np.array_split(df, num_partitions)\n",
    "    pool = Pool(num_cores)\n",
    "    df = sp.sparse.vstack(pool.map(func, a), format='csr')\n",
    "    pool.close()\n",
    "    pool.join()\n",
    "    return df\n",
    "\n",
    "train_transformed = parallelize_dataframe(adult_notes.train.data.chartext, vectorizer.transform)\n",
    "test_transformed = parallelize_dataframe(adult_notes.test.data.chartext, vectorizer.transform)"
   ]
  },
  {
   "cell_type": "code",
   "execution_count": 13,
   "metadata": {},
   "outputs": [
    {
     "data": {
      "text/plain": [
       "LogisticRegression(C=1.0, class_weight=None, dual=False, fit_intercept=True,\n",
       "          intercept_scaling=1, max_iter=2000, multi_class='warn',\n",
       "          n_jobs=None, penalty='l1', random_state=None, solver='liblinear',\n",
       "          tol=0.0001, verbose=0, warm_start=False)"
      ]
     },
     "execution_count": 13,
     "metadata": {},
     "output_type": "execute_result"
    }
   ],
   "source": [
    "logisticRegression_b = LogisticRegression(penalty='l1', solver='liblinear', max_iter=2000)\n",
    "logisticRegression_b.fit(train_transformed, adult_notes.train.target)"
   ]
  },
  {
   "cell_type": "code",
   "execution_count": 14,
   "metadata": {},
   "outputs": [
    {
     "data": {
      "image/png": "[encoded data removed]",
      "text/plain": [
       "<Figure size 432x288 with 1 Axes>"
      ]
     },
     "metadata": {
      "needs_background": "light"
     },
     "output_type": "display_data"
    },
    {
     "data": {
      "text/plain": [
       "'AUC Score = 0.85'"
      ]
     },
     "metadata": {},
     "output_type": "display_data"
    }
   ],
   "source": [
    "prediction_b = logisticRegression_b.predict_proba(test_transformed)\n",
    "fpr_b, tpr_b, thresholds_b = roc_curve(adult_notes.test.target.values, prediction_b[:, 1])\n",
    "auc_b = metrics.auc(fpr_b, tpr_b)\n",
    "\n",
    "plt.figure()\n",
    "plt.plot(fpr_b, tpr_b, label='ROC curve (area = %0.2f)' % auc_b)\n",
    "plt.plot([0, 1], [0, 1], 'k--')\n",
    "plt.xlim([0.0, 1.0])\n",
    "plt.ylim([0.0, 1.05])\n",
    "plt.xlabel('False Positive Rate')\n",
    "plt.ylabel('True Positive Rate')\n",
    "plt.title('Receiver Operating Characteristic Curve')\n",
    "plt.legend(loc=\"lower right\")\n",
    "plt.show()\n",
    "display(\"AUC Score = \" + str(round(auc_b, 2)))"
   ]
  },
  {
   "cell_type": "code",
   "execution_count": 15,
   "metadata": {},
   "outputs": [
    {
     "data": {
      "text/plain": [
       "'Accuracy = 91.48%'"
      ]
     },
     "execution_count": 15,
     "metadata": {},
     "output_type": "execute_result"
    }
   ],
   "source": [
    "accuracy_b= logisticRegression_b.score(test_transformed, adult_notes.test.target.values) * 100\n",
    "\"Accuracy = \" + str(round(accuracy_b, 2)) + \"%\""
   ]
  },
  {
   "cell_type": "code",
   "execution_count": 16,
   "metadata": {},
   "outputs": [
    {
     "data": {
      "text/plain": [
       "'Top 5 risk factors of mortality:'"
      ]
     },
     "metadata": {},
     "output_type": "display_data"
    },
    {
     "data": {
      "text/plain": [
       "['prognosis', 'cmo', 'corneal', 'dnr', 'family']"
      ]
     },
     "metadata": {},
     "output_type": "display_data"
    },
    {
     "data": {
      "text/plain": [
       "'Lowest 5 risk factors of mortality:'"
      ]
     },
     "metadata": {},
     "output_type": "display_data"
    },
    {
     "data": {
      "text/plain": [
       "['intact', 'mae', 'clear', 'diet', 'extubation']"
      ]
     },
     "metadata": {},
     "output_type": "display_data"
    }
   ],
   "source": [
    "feature_coefs_b = pd.Series(logisticRegression_b.coef_[0], index=vectorizer.get_feature_names())\n",
    "feature_coefs_b.sort_values(ascending=False, inplace=True)\n",
    "display(\"Top 5 risk factors of mortality:\")\n",
    "display(feature_coefs_b.head(5).index.tolist())\n",
    "display(\"Lowest 5 risk factors of mortality:\")\n",
    "display(feature_coefs_b.tail(5).index.tolist())"
   ]
  },
  {
   "cell_type": "markdown",
   "metadata": {},
   "source": [
    "#### Comment on model performance:\n",
    "The risk factors found do make sense, especially the top 5 risk factors of mortality.\n",
    "The AUC of this model (0.85) is much more promising than that of the logicstic regression model run on normalized data. This could be as the notes for the patients captured a high amount of information and variability."
   ]
  },
  {
   "cell_type": "markdown",
   "metadata": {},
   "source": [
    "### Part c:"
   ]
  },
  {
   "cell_type": "code",
   "execution_count": 74,
   "metadata": {},
   "outputs": [],
   "source": [
    "combined_trainset = pd.merge(adult_icu.train.data.join(adult_icu.train.target), adult_notes.train.data, on=\"hadm_id\")\n",
    "combined_target = combined_trainset.pop(\"mort_icu\")\n",
    "combined_train = Data(combined_trainset, combined_target)\n",
    "\n",
    "combined_testset = pd.merge(adult_icu.test.data.join(adult_icu.test.target), adult_notes.test.data, on=\"hadm_id\")\n",
    "combined_target = combined_testset.pop(\"mort_icu\")\n",
    "combined_test = Data(combined_testset, combined_target)\n",
    "\n",
    "combined = Dataset(combined_train, combined_test)\n",
    "\n",
    "combined_train_transformed = parallelize_dataframe(combined.train.data.chartext, vectorizer.transform)\n",
    "combined_test_transformed = parallelize_dataframe(combined.test.data.chartext, vectorizer.transform)"
   ]
  },
  {
   "cell_type": "code",
   "execution_count": 116,
   "metadata": {},
   "outputs": [
    {
     "data": {
      "text/plain": [
       "LogisticRegression(C=1.0, class_weight=None, dual=False, fit_intercept=True,\n",
       "          intercept_scaling=1, max_iter=2000, multi_class='warn',\n",
       "          n_jobs=None, penalty='l1', random_state=None, solver='liblinear',\n",
       "          tol=0.0001, verbose=0, warm_start=False)"
      ]
     },
     "execution_count": 116,
     "metadata": {},
     "output_type": "execute_result"
    }
   ],
   "source": [
    "combined.train.data.drop([\"hadm_id\", \"chartext\"], axis=1, inplace=True)\n",
    "combined.test.data.drop([\"hadm_id\", \"chartext\"], axis=1, inplace=True)\n",
    "\n",
    "combined_sparse_train = sp.sparse.hstack((combined.train.data.values, combined_train_transformed))\n",
    "combined_sparse_test = sp.sparse.hstack((combined.test.data.values, combined_test_transformed))\n",
    "\n",
    "logisticRegression_c = LogisticRegression(penalty='l1', solver='liblinear', max_iter=2000)\n",
    "logisticRegression_c.fit(combined_sparse_train, combined.train.target)"
   ]
  },
  {
   "cell_type": "code",
   "execution_count": 121,
   "metadata": {},
   "outputs": [
    {
     "data": {
      "image/png": "[encoded data removed]",
      "text/plain": [
       "<Figure size 432x288 with 1 Axes>"
      ]
     },
     "metadata": {
      "needs_background": "light"
     },
     "output_type": "display_data"
    },
    {
     "data": {
      "text/plain": [
       "'AUC Score = 0.88'"
      ]
     },
     "metadata": {},
     "output_type": "display_data"
    }
   ],
   "source": [
    "prediction_c = logisticRegression_c.predict_proba(combined_sparse_test)\n",
    "fpr_c, tpr_c, thresholds_c = roc_curve(combined.test.target.values, prediction_c[:, 1])\n",
    "auc_c = metrics.auc(fpr_c, tpr_c)\n",
    "\n",
    "plt.figure()\n",
    "plt.plot(fpr_c, tpr_c, label='ROC curve (area = %0.2f)' % auc_c)\n",
    "plt.plot([0, 1], [0, 1], 'k--')\n",
    "plt.xlim([0.0, 1.0])\n",
    "plt.ylim([0.0, 1.05])\n",
    "plt.xlabel('False Positive Rate')\n",
    "plt.ylabel('True Positive Rate')\n",
    "plt.title('Receiver Operating Characteristic Curve')\n",
    "plt.legend(loc=\"lower right\")\n",
    "plt.show()\n",
    "display(\"AUC Score = \" + str(round(auc_c, 2)))"
   ]
  },
  {
   "cell_type": "code",
   "execution_count": 122,
   "metadata": {},
   "outputs": [
    {
     "data": {
      "text/plain": [
       "'Accuracy = 91.94%'"
      ]
     },
     "execution_count": 122,
     "metadata": {},
     "output_type": "execute_result"
    }
   ],
   "source": [
    "accuracy_c = logisticRegression_c.score(combined_sparse_test, combined.test.target.values) * 100\n",
    "\"Accuracy = \" + str(round(accuracy_c, 2)) + \"%\""
   ]
  },
  {
   "cell_type": "code",
   "execution_count": 123,
   "metadata": {},
   "outputs": [
    {
     "data": {
      "text/plain": [
       "'Top 5 risk factors of mortality:'"
      ]
     },
     "metadata": {},
     "output_type": "display_data"
    },
    {
     "data": {
      "text/plain": [
       "['prognosis', 'corneal', 'stimuli', 'family', 'cmo']"
      ]
     },
     "metadata": {},
     "output_type": "display_data"
    },
    {
     "data": {
      "text/plain": [
       "'Lowest 5 risk factors of mortality:'"
      ]
     },
     "metadata": {},
     "output_type": "display_data"
    },
    {
     "data": {
      "text/plain": [
       "['good', 'diet', 'mae', 'clear', 'extubation']"
      ]
     },
     "metadata": {},
     "output_type": "display_data"
    }
   ],
   "source": [
    "feature_coefs_c = pd.Series(logisticRegression_c.coef_[0], index=(combined.train.data.columns.values.tolist()+vectorizer.get_feature_names()))\n",
    "feature_coefs_c.sort_values(ascending=False, inplace=True)\n",
    "display(\"Top 5 risk factors of mortality:\")\n",
    "display(feature_coefs_c.head(5).index.tolist())\n",
    "display(\"Lowest 5 risk factors of mortality:\")\n",
    "display(feature_coefs_c.tail(5).index.tolist())"
   ]
  },
  {
   "cell_type": "markdown",
   "metadata": {},
   "source": [
    "#### Comment on how the two sources of data affect the model:\n",
    "\n",
    "While the clinical notes were an excellent source of data for a logictic regression model resulting in an AUC of 0.85, adding all of the numerical variables to the data did not result in much of an improvement (AUC increase of 0.03). Furthermore, one does not see any of the variables from the numerical data included in the top 5 or lowest 5 risk factors of mortality, showing that most of the decision is still influenced by the clinical notes data."
   ]
  }
 ],
 "metadata": {
  "kernelspec": {
   "display_name": "Python 3",
   "language": "python",
   "name": "python3"
  },
  "language_info": {
   "codemirror_mode": {
    "name": "ipython",
    "version": 3
   },
   "file_extension": ".py",
   "mimetype": "text/x-python",
   "name": "python",
   "nbconvert_exporter": "python",
   "pygments_lexer": "ipython3",
   "version": "3.6.7"
  }
 },
 "nbformat": 4,
 "nbformat_minor": 2
}
